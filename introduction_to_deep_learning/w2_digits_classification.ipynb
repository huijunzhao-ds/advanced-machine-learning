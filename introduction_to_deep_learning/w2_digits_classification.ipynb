{
 "cells": [
  {
   "cell_type": "markdown",
   "metadata": {
    "slideshow": {
     "slide_type": "slide"
    }
   },
   "source": [
    "# MNIST digits classification with TensorFlow"
   ]
  },
  {
   "cell_type": "markdown",
   "metadata": {},
   "source": [
    "<img src=\"images/mnist_sample.png\" style=\"width:30%\">"
   ]
  },
  {
   "cell_type": "code",
   "execution_count": 1,
   "metadata": {},
   "outputs": [
    {
     "name": "stdout",
     "output_type": "stream",
     "text": [
      "env: EXPERIMENTAL_TQDM=1\n"
     ]
    }
   ],
   "source": [
    "%env EXPERIMENTAL_TQDM=1"
   ]
  },
  {
   "cell_type": "code",
   "execution_count": 2,
   "metadata": {},
   "outputs": [
    {
     "name": "stdout",
     "output_type": "stream",
     "text": [
      "We're using TF 1.2.1\n"
     ]
    },
    {
     "name": "stderr",
     "output_type": "stream",
     "text": [
      "Using TensorFlow backend.\n"
     ]
    }
   ],
   "source": [
    "import numpy as np\n",
    "from sklearn.metrics import accuracy_score\n",
    "from matplotlib import pyplot as plt\n",
    "%matplotlib inline\n",
    "import tensorflow as tf\n",
    "print(\"We're using TF\", tf.__version__)\n",
    "\n",
    "import sys\n",
    "sys.path.append(\"../..\")\n",
    "import grading\n",
    "\n",
    "import matplotlib_utils\n",
    "from importlib import reload\n",
    "reload(matplotlib_utils)\n",
    "\n",
    "import grading_utils\n",
    "reload(grading_utils)\n",
    "\n",
    "import keras_utils\n",
    "from keras_utils import reset_tf_session"
   ]
  },
  {
   "cell_type": "markdown",
   "metadata": {},
   "source": [
    "# Fill in your Coursera token and email\n",
    "To successfully submit your answers to our grader, please fill in your Coursera submission token and email"
   ]
  },
  {
   "cell_type": "code",
   "execution_count": 3,
   "metadata": {
    "collapsed": true
   },
   "outputs": [],
   "source": [
    "grader = grading.Grader(assignment_key=\"XtD7ho3TEeiHQBLWejjYAA\", \n",
    "                        all_parts=[\"9XaAS\", \"vmogZ\", \"RMv95\", \"i8bgs\", \"rE763\"])"
   ]
  },
  {
   "cell_type": "code",
   "execution_count": 37,
   "metadata": {
    "collapsed": true
   },
   "outputs": [],
   "source": [
    "# token expires every 30 min\n",
    "COURSERA_TOKEN = \"y8nxxxNZ2MxOWJH4\"\n",
    "COURSERA_EMAIL = \"Huijun.Zhao@fmr.com\""
   ]
  },
  {
   "cell_type": "markdown",
   "metadata": {},
   "source": [
    "# Look at the data\n",
    "\n",
    "In this task we have 50000 28x28 images of digits from 0 to 9.\n",
    "We will train a classifier on this data."
   ]
  },
  {
   "cell_type": "code",
   "execution_count": 5,
   "metadata": {},
   "outputs": [
    {
     "name": "stdout",
     "output_type": "stream",
     "text": [
      "Downloading data from https://s3.amazonaws.com/img-datasets/mnist.npz\n",
      "11091968/11490434 [===========================>..] - ETA: 0s"
     ]
    }
   ],
   "source": [
    "import preprocessed_mnist\n",
    "X_train, y_train, X_val, y_val, X_test, y_test = preprocessed_mnist.load_dataset()"
   ]
  },
  {
   "cell_type": "code",
   "execution_count": 6,
   "metadata": {},
   "outputs": [
    {
     "name": "stdout",
     "output_type": "stream",
     "text": [
      "X_train [shape (50000, 28, 28)] sample patch:\n",
      " [[ 0.          0.29803922  0.96470588  0.98823529  0.43921569]\n",
      " [ 0.          0.33333333  0.98823529  0.90196078  0.09803922]\n",
      " [ 0.          0.33333333  0.98823529  0.8745098   0.        ]\n",
      " [ 0.          0.33333333  0.98823529  0.56862745  0.        ]\n",
      " [ 0.          0.3372549   0.99215686  0.88235294  0.        ]]\n",
      "A closeup of a sample patch:\n"
     ]
    },
    {
     "data": {
      "image/png": "[encoded data removed]",
      "text/plain": [
       "<matplotlib.figure.Figure at 0x7fce59209ac8>"
      ]
     },
     "metadata": {},
     "output_type": "display_data"
    },
    {
     "name": "stdout",
     "output_type": "stream",
     "text": [
      "And the whole sample:\n"
     ]
    },
    {
     "data": {
      "image/png": "[encoded data removed]",
      "text/plain": [
       "<matplotlib.figure.Figure at 0x7fce41568748>"
      ]
     },
     "metadata": {},
     "output_type": "display_data"
    },
    {
     "name": "stdout",
     "output_type": "stream",
     "text": [
      "y_train [shape (50000,)] 10 samples:\n",
      " [5 0 4 1 9 2 1 3 1 4]\n"
     ]
    }
   ],
   "source": [
    "# X contains rgb values divided by 255\n",
    "print(\"X_train [shape %s] sample patch:\\n\" % (str(X_train.shape)), X_train[1, 15:20, 5:10])\n",
    "print(\"A closeup of a sample patch:\")\n",
    "plt.imshow(X_train[1, 15:20, 5:10], cmap=\"Greys\")\n",
    "plt.show()\n",
    "print(\"And the whole sample:\")\n",
    "plt.imshow(X_train[1], cmap=\"Greys\")\n",
    "plt.show()\n",
    "print(\"y_train [shape %s] 10 samples:\\n\" % (str(y_train.shape)), y_train[:10])"
   ]
  },
  {
   "cell_type": "markdown",
   "metadata": {},
   "source": [
    "# Linear model\n",
    "\n",
    "Your task is to train a linear classifier $\\vec{x} \\rightarrow y$ with SGD using TensorFlow.\n",
    "\n",
    "You will need to calculate a logit (a linear transformation) $z_k$ for each class: \n",
    "$$z_k = \\vec{x} \\cdot \\vec{w_k} + b_k \\quad k = 0..9$$\n",
    "\n",
    "And transform logits $z_k$ to valid probabilities $p_k$ with softmax: \n",
    "$$p_k = \\frac{e^{z_k}}{\\sum_{i=0}^{9}{e^{z_i}}} \\quad k = 0..9$$\n",
    "\n",
    "We will use a cross-entropy loss to train our multi-class classifier:\n",
    "$$\\text{cross-entropy}(y, p) = -\\sum_{k=0}^{9}{\\log(p_k)[y = k]}$$ \n",
    "\n",
    "where \n",
    "$$\n",
    "[x]=\\begin{cases}\n",
    "       1, \\quad \\text{if $x$ is true} \\\\\n",
    "       0, \\quad \\text{otherwise}\n",
    "    \\end{cases}\n",
    "$$\n",
    "\n",
    "Cross-entropy minimization pushes $p_k$ close to 1 when $y = k$, which is what we want.\n",
    "\n",
    "Here's the plan:\n",
    "* Flatten the images (28x28 -> 784) with `X_train.reshape((X_train.shape[0], -1))` to simplify our linear model implementation\n",
    "* Use a matrix placeholder for flattened `X_train`\n",
    "* Convert `y_train` to one-hot encoded vectors that are needed for cross-entropy\n",
    "* Use a shared variable `W` for all weights (a column $\\vec{w_k}$ per class) and `b` for all biases.\n",
    "* Aim for ~0.93 validation accuracy"
   ]
  },
  {
   "cell_type": "code",
   "execution_count": 7,
   "metadata": {},
   "outputs": [
    {
     "name": "stdout",
     "output_type": "stream",
     "text": [
      "(50000, 784)\n",
      "(10000, 784)\n"
     ]
    }
   ],
   "source": [
    "X_train_flat = X_train.reshape((X_train.shape[0], -1))\n",
    "print(X_train_flat.shape)\n",
    "\n",
    "X_val_flat = X_val.reshape((X_val.shape[0], -1))\n",
    "print(X_val_flat.shape)"
   ]
  },
  {
   "cell_type": "code",
   "execution_count": 8,
   "metadata": {},
   "outputs": [
    {
     "name": "stdout",
     "output_type": "stream",
     "text": [
      "(50000, 10)\n",
      "[[ 0.  0.  0.  0.  0.  1.  0.  0.  0.  0.]\n",
      " [ 1.  0.  0.  0.  0.  0.  0.  0.  0.  0.]\n",
      " [ 0.  0.  0.  0.  1.  0.  0.  0.  0.  0.]] [5 0 4]\n"
     ]
    }
   ],
   "source": [
    "import keras\n",
    "\n",
    "y_train_oh = keras.utils.to_categorical(y_train, 10)\n",
    "y_val_oh = keras.utils.to_categorical(y_val, 10)\n",
    "\n",
    "print(y_train_oh.shape)\n",
    "print(y_train_oh[:3], y_train[:3])"
   ]
  },
  {
   "cell_type": "code",
   "execution_count": 40,
   "metadata": {
    "collapsed": true
   },
   "outputs": [],
   "source": [
    "# run this again if you remake your graph\n",
    "s = reset_tf_session()"
   ]
  },
  {
   "cell_type": "code",
   "execution_count": 41,
   "metadata": {
    "collapsed": true
   },
   "outputs": [],
   "source": [
    "# Model parameters: W and b\n",
    "W = tf.get_variable('W',shape=[784,10], dtype=tf.float32, trainable=True) ### YOUR CODE HERE ### tf.get_variable(...) with shape[0] = 784\n",
    "b = tf.get_variable('b',shape=(1,10), dtype=tf.float32, trainable=True) ### YOUR CODE HERE ### tf.get_variable(...)"
   ]
  },
  {
   "cell_type": "code",
   "execution_count": 46,
   "metadata": {
    "collapsed": true
   },
   "outputs": [],
   "source": [
    "# Placeholders for the input data\n",
    "input_X = tf.placeholder('float32', shape=(None, 784)) ### YOUR CODE HERE ### tf.placeholder(...) for flat X with shape[0] = None for any batch size\n",
    "input_y = tf.placeholder('int32', shape=(None,10)) ### YOUR CODE HERE ### tf.placeholder(...) for one-hot encoded true labels"
   ]
  },
  {
   "cell_type": "code",
   "execution_count": 47,
   "metadata": {
    "collapsed": true
   },
   "outputs": [],
   "source": [
    "# Compute predictions\n",
    "logits = input_X @ W + b ### YOUR CODE HERE ### logits for input_X, resulting shape should be [input_X.shape[0], 10]\n",
    "probas = tf.nn.softmax(logits) ### YOUR CODE HERE ### apply tf.nn.softmax to logits\n",
    "classes = tf.argmax(probas,1) ### YOUR CODE HERE ### apply tf.argmax to find a class index with highest probability\n",
    "\n",
    "# Loss should be a scalar number: average loss over all the objects with tf.reduce_mean().\n",
    "# Use tf.nn.softmax_cross_entropy_with_logits on top of one-hot encoded input_y and logits.\n",
    "# It is identical to calculating cross-entropy on top of probas, but is more numerically friendly (read the docs).\n",
    "loss = tf.reduce_mean(tf.nn.softmax_cross_entropy_with_logits(labels=input_y,logits=logits))### YOUR CODE HERE ### cross-entropy loss\n",
    "\n",
    "# Use a default tf.train.AdamOptimizer to get an SGD step\n",
    "step = tf.train.AdamOptimizer().minimize(loss, var_list=[W,b])### YOUR CODE HERE ### optimizer step that minimizes the loss"
   ]
  },
  {
   "cell_type": "code",
   "execution_count": null,
   "metadata": {
    "scrolled": false
   },
   "outputs": [
    {
     "data": {
      "text/html": [
       "<img src=\"data:image/jpeg;base64,/9j/4AAQSkZJRgABAQAAAQABAAD/2wBDAAIBAQEBAQIBAQECAgICAgQDAgICAgUEBAMEBgUGBgYFBgYGBwkIBgcJBwYGCAsICQoKCgoKBggLDAsKDAkKCgr/2wBDAQICAgICAgUDAwUKBwYHCgoKCgoKCgoKCgoKCgoKCgoKCgoKCgoKCgoKCgoKCgoKCgoKCgoKCgoKCgoKCgoKCgr/wAARCAEgA2ADASIAAhEBAxEB/8QAHwAAAQUBAQEBAQEAAAAAAAAAAAECAwQFBgcICQoL/8QAtRAAAgEDAwIEAwUFBAQAAAF9AQIDAAQRBRIhMUEGE1FhByJxFDKBkaEII0KxwRVS0fAkM2JyggkKFhcYGRolJicoKSo0NTY3ODk6Q0RFRkdISUpTVFVWV1hZWmNkZWZnaGlqc3R1dnd4eXqDhIWGh4iJipKTlJWWl5iZmqKjpKWmp6ipqrKztLW2t7i5usLDxMXGx8jJytLT1NXW19jZ2uHi4%2BTl5ufo6erx8vP09fb3%2BPn6/8QAHwEAAwEBAQEBAQEBAQAAAAAAAAECAwQFBgcICQoL/8QAtREAAgECBAQDBAcFBAQAAQJ3AAECAxEEBSExBhJBUQdhcRMiMoEIFEKRobHBCSMzUvAVYnLRChYkNOEl8RcYGRomJygpKjU2Nzg5OkNERUZHSElKU1RVVldYWVpjZGVmZ2hpanN0dXZ3eHl6goOEhYaHiImKkpOUlZaXmJmaoqOkpaanqKmqsrO0tba3uLm6wsPExcbHyMnK0tPU1dbX2Nna4uPk5ebn6Onq8vP09fb3%2BPn6/9oADAMBAAIRAxEAPwD9/KKKKACiiigAooooAKKKKACiiigAooooAKKKKACiiigAooooAKKKKACiiigAooooAKKKKACiiigAooooAKKKKACiiigAooooAKKKKACiiigAooooAKKKKACiiigAooooAKKKKACiiigAooooAKKKKACiiigAooooAKKKKACiiigAooooAKKKKACiiigAooooAKKKKACiiigAooooAKKKKACiiigAooooAKKKKACiiigAooooAKKKKACiiigAooooAKKKKACiiigAooooAKKKKACiiigAooooAKKKKACiiigAooooAKKKKACiiigAooooAKKKKACiiigAooooAKKKKACiiigAooooAKKKKACvPfjt%2B1J8FP2b5NGsfil4g1Maj4ilnTQNB8OeF9R1zVNR8lVed4bHTbee5kjiVkMkixlI96biu5c%2BhV4N%2B0P8D/j5/wANJ%2BDv2tv2bLLwfrWueH/B2seFNX8KeOdcutLtLywv7mwuxcQXtraXj288U2noCpt3WVJSCUKK1ABpf/BTL9izWLvxPb2nxXv0h8FWsk/jLUrvwXrEFjoIS0iu9l5dy2iwWsrQzRskMjrJIWKorMrKL2n/APBQ/wDZK1HwBrXxFTx/q9vB4f1ay0vVdE1DwNrNrrkV5ebfscC6PNaLqEr3AYGER27eaAxTcFYjy2b9gH4y%2BMf2a/jn8NfGHinwppHin4o/FS38daHc6U1xeWFpeW0OiywQ3IkihkkiN3pRRwoyYHGDuJVaPi79i/8AaV%2BLmr/Ef45fG34S/CjWvFnjWx8KaPp/gKy%2BI2s2Wm6fY6Hcaldw3qa7b6al5DqDXOqTOksVoPJSKNFZiWcgHsviH9vv9mzwv4a8OeI9XvvG3meK0v5NE8P2vwm8SXGuSRWUscV3NJpMWntf28MLzQq8s0CIpmiy37xM%2Bmaz8RPBHhv4e3XxX8T%2BJbbSvDljo76rf6vqrfZYbSySIzPPMZdvlKsYLNvxtAOcYNfGHin9hH9s/WPgX4X8Nay3hfxV470a58RHRfGV/wDHbxNpGr%2BCLW%2BuUktLO11q1sJLzXIYkjhEy3qw/aTbReYCFGPUfjR/wTotfj1%2Bzb4n%2BHHxD%2BOfjW78d%2BMPhfH4Z17xS3jbWho818tpDE2oJoS3y2FuzzQLK3kRRSEPIBIrSM5AOkg/4KUfsZf8K58V/FbWPite6Jo3giysr7xQ/ifwdq%2Bk3NlZXkxhtb37LeWsVxJaSyK6pcxxtC3luQ%2BEYjj/AI3f8FZP2d/hn8ENU%2BMfgPRfFXiqbQfiD4X8L674Y/4QXXbHU7A6zqVrax3T2cmnNdeV5Fw88DeT5d48aW8MhknjB8r1T/gmJ8ZPHfwq8faR4i8DeG9G8Y%2BI9D0fR7DxDqv7RfjPxut3aWusW%2BoTRyf27AfsEZ8likUSzHe%2BGkxknv8A9qH9gz40/GD4g/F/4g%2BBfEPheOTxfB8LbzwlZ6tfXMSvf%2BE/EdzrUsN40dvJ5ENwGt4VljEzrl2MfyKrgHqFh/wUE/Zb1H4m2XwZh8T%2BJo/Fd5oun6xLoF38N9egudO0%2B9adILu/SSyU6dDut5VeS68pYiFEhQum6j4a/wCCmH7FPi3wZ4s%2BIWkfGC4TR/Bfgi68Zaxe6h4S1W0Fx4et0Z5tWsVntUbVLNVQ4nsxPGxZArEugbB0P9kP4ofEP4mfG74g/G9fD2gxfGj4O%2BHfCF1Y%2BE9duNRl0u4tE11Ltlnns7XzYwNViMT7FZikm6OPA3fN37Y37Kn7UOj/ALDHxS%2BJv7TF34AtIfhD%2BxT8QfBHhePwFqF5cNrzXukWxn1G6W5toBYqE0i3CWcbXAVppCZ22oKAPrPw9/wUl/Yy8TaHrHiPT/i1dQWehppU1/JqnhLVbJmtNSu1s7HUIUuLVGubCWdgovoQ9qoDO0qorMPT9E%2BLvw88R/FLX/gvofiH7T4k8LaXp%2Boa/YR2k22zgvmuBa7pinlF3%2ByzHy1cyKoRmVVkjLfJOofsz%2BIPFegeKfjb/wAFIvF/wz8J%2BBbf9nu5%2BHUlx4f8QTLay6beyQyXmq3k17BbpYOTBbCG2QzCAmT/AEiQsuOw/wCCPngP4u2f7I9r8f8A9pDUDf8AxJ%2BL15H4n8V6g9nJbtJCLSCy01fKl%2BeH/iX2lpI0TYKSzTZAYtkA%2BqqKKKACiiigAooooAKKKKACiiigAooooAKKKKACiiigAooooAKKKKACiiigAooooAKKKKACiiigAooooAKKKKACiiigAooooAK8R0j/AIKMfse6ld69Z6n8Urzw83hzw5c%2BINQk8a%2BEdV0GObSbd0jnv7WTUrWBb63R5IlaW2MqAyxjOXXPtN7FczWcsNndCCZ4mWKYx7/LYjhtp64POO9fmJq//BHL9uX4v6t4X1z43fHHQ31vw14P1Cz1DxRqHxW8TeJx4h1v7ZpV9a6idLvoobLSbaS50xfPsLIBRHJtWWQKgUA%2B2X/b/wD2YbX4aN8WNY8QeKtK0ttcg0axs9c%2BGWv2GqanfzIZIYLLTbixS9v2kQM6/Z4ZAyo7AkIxHReA/wBqz4H/ABH1%2By8J%2BHPEOqQ6vf8AhSfxJDpGteFdS0y7TTYbv7JLLLDeW8UkDrP8hhkVZe%2BzbzXk3xO%2BDn7bvxib4e/G3XPBvwq0P4h/Cjx1NrHh/wAM2vjjUr/Rdcs7jSbvTLmO4vn0qGaxmKXskkbpa3AjMQU%2BYJGxV%2BJPwG/bg1/4y%2BHf2mvA%2BjfCu08WX3ww1XwX4x0LUvFepSWGkLcX8N1a39lcJpwk1AxCN1kt5YrQSlxiWLHIB3Gk/wDBRv8AZA8R694F8LeFfiNqus6n8SfBuleLfBunaJ4H1m9nvND1F9lrqMiQWjNa2%2B7HmSTiNbcMpm8oMCdj4a/tufs3fFf4jXPwn8M%2BL9Ws9ft9LudThsvE/gzVtEW/sbeRI57uyl1G1gjv4I3liDy2zSIvmISQGUnyj9hT9hL4sfsw6/8ADjWfHniDw1dnwd%2Byl4R%2BGN%2B%2BkXM8rNq2lvM1zNF5kEe61bemxmKu235o0wK8a%2BGn/BKv9sbxP8UfC/ib9qb4w2eqRaf4A8V%2BF/GniaD4v%2BJNavPEUur2KW39p2umX0Men6EcqWNpaKUXKgTOI1WgD6l8J/8ABRf9kfxrosfirQfHeuf2Hcarpen6f4lvfh/rdrpWoy6lex2VlJaX09mlteQS3M0UYuIJHhBlQs4VgT6X4W%2BLvw88a/EDxT8LvC/iH7XrnguSzj8T2iWkwWxkuoPtEEZlZBG7tCVkKIzMiyRlgokTd8w%2BOPAnxF8K/wDBPbxp8CP%2BChnif4VeCPAWg/DSLQLb4meHfFt2GadI0trXUntLqzgTTZlmFvJDBHcXTGcoiOTtDdr/AMEr/h98WPDf7ImlfFX9oqwS3%2BJ3xYvpfHXxEhW3aL7Pf36xmG02N8yfZbGOys9pyQLXBoA%2BjaKKKACiiigAooooAKKKKACiiigAooooAKKKKACiiigAooooAKKKKACiiigAooooAKKKKACiiigAooooAKKKKACiiigAooooAKK89/autPgHe/s7%2BK7f9qCTwuvgQ6bnXz41ngj0vaJFMQuGuCItpmEYAc4LbRznFfOH7K/7SX7Ds3/BG/4ea78bfip4H1/wN4b%2BAOgzeObA6lb6jEsFpYWsNxBNbxs5kK3CiBoSpJlPlFSx2kA%2B0a8X%2BPXj/wDaL/4aL8C/Aj4C%2BM/BXh9Nf8FeJde1fU/F/gu71ok6dd6Hbwwwx2%2BpWPlhv7UlZmZnz5aABeSeM/4JTj4caj8AvEPjj4Ta34Mh0DxR48u9W03wP4B12zv9M8DwyWtokejq1k728U%2ByNby4hiPlpc38%2BwuhWR5dd8X/ABPT/gqp8PPDHjzwZ4e07RZ/g34%2B/wCEV1LSvE095d6gE1Xwg0hubeSygS0YDGFSa4DZbLJtG5NpblwpzqO0V0b%2B5Xf4HYf8IP8A8FC/%2BjoPgz/4YfVv/moo/wCEH/4KF/8AR0HwZ/8ADD6t/wDNRXs1FMg8Z/4Qf/goX/0dB8Gf/DD6t/8ANRR/wg//AAUL/wCjoPgz/wCGH1b/AOaivZqKAPGf%2BEH/AOChf/R0HwZ/8MPq3/zUUf8ACD/8FC/%2BjoPgz/4YfVv/AJqK9mooA8Z/4Qf/AIKF/wDR0HwZ/wDDD6t/81FH/CD/APBQv/o6D4M/%2BGH1b/5qK9mooA8Z/wCEH/4KF/8AR0HwZ/8ADD6t/wDNRR/wg/8AwUL/AOjoPgz/AOGH1b/5qK9mooA8Z/4Qf/goX/0dB8Gf/DD6t/8ANRR/wg//AAUL/wCjoPgz/wCGH1b/AOaivZqKAPGf%2BEH/AOChf/R0HwZ/8MPq3/zUUf8ACD/8FC/%2BjoPgz/4YfVv/AJqK9mrzDxn8V/2aPhRbQ6l%2B0H8TPA3hu41fU9QXT5vGetWdm14sFwUYRG5dd4jVogQudu5c43DMTqU6UeabSXdtJfe2l%2BJ0YXCYvHV1Qw1OVSb2jCMpydld2jGMpOy1douy1empkf8ACD/8FC/%2BjoPgz/4YfVv/AJqKP%2BEH/wCChf8A0dB8Gf8Aww%2Brf/NRVf8A4a//AOCcH/R0XwR/8LbR/wD47R/w1/8A8E4P%2Bjovgj/4W2j/APx2uf6/gP8An9D/AMDh/wDJHsf6pcWf9C7Ef%2BE9f/5QWP8AhB/%2BChf/AEdB8Gf/AAw%2Brf8AzUUf8IP/AMFC/wDo6D4M/wDhh9W/%2Baiu78DS/A/4oeFrXxz8NJPCniLRL7f9i1jQmtru1uNjtG%2ByWLcj7XRkOCcMpB5Brw8ft8/se6N4l%2BJHh/4ieBdZ8Ox/Dj4g2nhC61G6%2BGOqTW2p391Fp5t0tZYbJkmklm1CKFIYy8jgLKqmKWN26oyjOKlF3TPDrUa2HqypVYuMotppppprRpppNNPdNJrqkdr/AMIP/wAFC/8Ao6D4M/8Ahh9W/wDmoo/4Qf8A4KF/9HQfBn/ww%2Brf/NRVjSPj3%2BzFq/xD0P4Wy%2BFNV0vWPElvFJoaeIvhZq2l215I9kb4Wq3V5ZRQfaxbLJI9oZBPH5MyvGrRSKvDeFf2%2Bv2GtV0zwmuv6npkOpeKPCXh3xARo/gvVb3TrKz1uR4dOnmvjp0SWsE08UsaS3a2xyo3pGWC0zM7H/hB/wDgoX/0dB8Gf/DD6t/81FH/AAg//BQv/o6D4M/%2BGH1b/wCaiux1zW/gVoHgzxF4%2BuIPD1xpnhSG7k8QT2NvBObI2sZknjcIDtkRRkocMMjjmvL/ANlb49N8c/FF14F%2BLP7Meh%2BB9ak8FaP4v0SztNXj1VbnSNRa5SNZn%2ByQeReQvbMs8CiWNfNiMc8oLbQDf/4Qf/goX/0dB8Gf/DD6t/8ANRR/wg//AAUL/wCjoPgz/wCGH1b/AOaiuF8M/tY2Xib4u2nha3/Zf0JfB/iPxv4k8FeBvFI1uM3eq%2BIdEivnu7eeyNoFtLdm0rVEjnFxKzGzy0SCRay/En7amnfB7SviPp37Rn7NXg7QvEngHT/C9zDaeHfF0eo6Xfv4h1C407TreW/ubGz%2BxyC6tz5/mQlIYJYpt7qxCgHp3/CD/wDBQv8A6Og%2BDP8A4YfVv/moo/4Qf/goX/0dB8Gf/DD6t/8ANRXnvjP9qPX/AAr%2BzBof7S2g/s9/CHxfY3niiy0/WZvBPxTGoaXBY3F/DZLdWl8NJX7bKskw3QGKFQUcebwCav7SX7cfgP8AZ9/aj0f9m3/hRfhC%2Bn1I%2BH/Ji1PxLFp%2Bs61/amoyWR/sTTjZyf2t9jEfn3X7%2BDyYmDHNAHpn/CD/APBQv/o6D4M/%2BGH1b/5qKP8AhB/%2BChf/AEdB8Gf/AAw%2Brf8AzUVjj4teKfDv7S2l/AX4lfsweDrCz8W2uuXHgfVtF8Ui/u7qLTWhJkvrR9PhWySVJ4yHjmuQjukb7Wdc5nwx%2BPfibx7%2Bzx47%2BKXiH9nL4aeFvE3gHxTqWkaxpOveP/L0OGKxdDcXc2rf2VugjWBnkJNqwBj2ltp8wAHV/wDCD/8ABQv/AKOg%2BDP/AIYfVv8A5qKP%2BEH/AOChf/R0HwZ/8MPq3/zUV4NqX/BSrwX/AMK2%2BGPjfSvg18ILA/EfxF4g0mDWPGfxUj0nw2x0uV4lubDVRpc39oW92VDW7iCLzEYNgdK9D1n9qbRLD9uC2/Yyh%2BGPwgtLn/hFNE1u5ufEXxIWx1O/W/m1GOWLStO/syQ6iYF05nZjNDnzkyE60Adt/wAIP/wUL/6Og%2BDP/hh9W/8Amoo/4Qf/AIKF/wDR0HwZ/wDDD6t/81FcZ8Hv2qvCXx/%2BNPjD4Y/Cb4cfCe6tfC93rOnQW%2BofEOKLxDc3unXUljLLLpEVhK1tYG9hlhW6aZnKoJBAyuueZtP2xvHemX3xB8I%2BN/2OPAKeIvCnjjw14M8O2/hvx7JfWGs69q0cU7W01zPo1s9mlrbXVpcTSLDOfLlcKjOgRwD1n/hB/wDgoX/0dB8Gf/DD6t/81FH/AAg//BQv/o6D4M/%2BGH1b/wCaivHfFn/BQr4deFPDHh/Rtb%2BD/wANPDvj7U/EPiHSdZ0jx78QYNG0HSm0W6htbyY6u9jI00ckl3YfZ1W1Ekovoy6Q7ZAm548/bQ8NfD34o3fhjXv2ffCEfhnw54g8JeH/ABpr8nieNbq11TxDJbw2YsbP7Fi%2BtVlu7cPcPNbnAmKRyGFlIB6N/wAIP/wUL/6Og%2BDP/hh9W/8Amoo/4Qf/AIKF/wDR0HwZ/wDDD6t/81FeW2X7cmiG%2B1HXtX/ZZ0S28IX1j4xk%2BHuvR64klzrlx4dklS5iurX7GosVuBBcS28iS3G6KEtIsLlYztfAv9r/AOHHxI/ZPvf2rfGPgL4XzWMaWy6Zpfwr8cR%2BKXu7y4WFYNMMjWFmI9QkuJ4rdbfDZkkTLjdwAdx/wg//AAUL/wCjoPgz/wCGH1b/AOaiqHgfxx%2B1Z4O/as8OfBH43fEf4e%2BJtG8TfD3xDrkM3hX4eX2i3VpdabfaJborPcavfJLG6apKSoRGDRIQ2Mg2v2c/iXpn7RH7JOj/ALQt58ItM8Iavq%2BiXN1LpFhdpd/2bcwvLGVS6EMJlAeLIfy0z6VL44/5SF/C/wD7Iz48/wDTt4QoA9mooooAK%2BUP%2BC20f7Pv/DtD4pXf7Qlz4UigtfCuozeEn8WXNvHGNdFjcfY/s3nkBrsEuYguX3DKjIyPq%2BigD5T/AG5vi9%2Bz38Xfgz4H1yb4n%2BEPFHwlPxL0Gf4p3lrrVre6SdBmS4a2kvnR2i%2BwveiwLtIfJaMMXzHvr5N8TN8Bf%2BFU6R/w0gdO/wCFRf8ACIfFr/hQ/wDan/Hr9q/4SRP7D/svP/L7/Z23%2ByfJ/f8A2ff9l43V%2Br1FAHC%2BBbv422P7OPh671DQdO1T4gx%2BErA6jp%2Buas9hbT6n9nj89ZbiG3uGiHmb/mWGTn%2BGvHf2f/GX/BRP9oDwJf8AxEuviz8FvCLR%2BNvE2ijw5H8L9X1sWS6Zrl9pir9vOuWX2slbQMZfstvuLE%2BUn3R9OV4J%2ByEPM/Z11u3YnZN8dPHkUoBxuR/H2rKy/QqSD7GgDV/4Qf8A4KF/9HQfBn/ww%2Brf/NRR/wAIP/wUL/6Og%2BDP/hh9W/8Amop%2Bv/tQf8E/fCmu3vhbxT%2B0R8HNN1PTbuS11HTtQ8XaVDPazxsUkikjeUMjqwKsrAEEEEZFVP8Ahr//AIJwf9HRfBH/AMLbR/8A47XK8dgU7OrD/wADj/8AJHvQ4V4pqQU4ZfiGmk01QrtNPVNNUGmmmmmm00002mmWP%2BEH/wCChf8A0dB8Gf8Aww%2Brf/NRR/wg/wDwUL/6Og%2BDP/hh9W/%2Bain6B%2B1B/wAE/fFeu2Xhbwt%2B0R8HNS1PUruO107TtP8AFulTT3U8jBI4o40lLO7MQqqoJJIAGTV79qv4l/Cr9lD9m/xr%2B0l4p%2BFy6tp/grw9cardabpGiCa4uViXOxFjjYjJxlyNqLl3KqrMNaVehXTdOalbs0/ybPPx2V5nlc4wxuHqUnJXSqQnTbW10pwg2r6XSavpe%2Bhnf8IP/wAFC/8Ao6D4M/8Ahh9W/wDmoo/4Qf8A4KF/9HQfBn/ww%2Brf/NRVDSf2s/2P9c8by/DXS/DWvy%2BIbbw4uvahov8AwprXVutPsHju3iluo208NatL9huVijmCSTPGI41d3RWdpn7Tn7MHiaTw7/wiumWCHWfHU3hW9sPEvhLUdH1Gxvo9GutXMLWVzYCZJTa26zKtwtvG8MnmLKzGKObU4S7/AMIP/wAFC/8Ao6D4M/8Ahh9W/wDmoo/4Qf8A4KF/9HQfBn/ww%2Brf/NRVD4Kftf8A7C/7QWjTeI/ht4m0v%2BzovD%2Bn66l/4i8I3eiwXOl3zMtrewSajbQLc28jqUEsRdQ%2BEJDECrv7RvxEb4V6/wCD/hp8IPgB4a8XeM/G17eJpWl61qq6RYwWtnatcXNzPdJZ3ToB%2B5iVVhctJcR52IHdQB3/AAg//BQv/o6D4M/%2BGH1b/wCaij/hB/8AgoX/ANHQfBn/AMMPq3/zUVz%2BvftR/Cm2/Yn0D9sjw18FrO6j8UW2gJpPh7UhBaGC%2B1a%2BtLCC3u7gJItvHFc3aLPMFkEaRyOFcKAeKtf21zr2p23wi8Ifsy%2BArv4nxePdX8K67ot144EOg2Fzp2mQapMV1UaY8szNa3loVj%2Bxq4Z5g4QQO1AHqv8Awg//AAUL/wCjoPgz/wCGH1b/AOaij/hB/wDgoX/0dB8Gf/DD6t/81FeW6/8A8FCfghP8Ovgj8QPhV8CrLxMvxhvPDU11aefbwHw1pOr6haact7cOsUqyOl3exRJApHnmK4ZJNsDsNjSP2vvClz8ZLfQdf/Z40HT/AIdar4813wVoPjs6qkl1PrekWd7dXom0/wCyBYLUf2ZqcSTi4d2ktQDEglRqAO6/4Qf/AIKF/wDR0HwZ/wDDD6t/81FH/CD/APBQv/o6D4M/%2BGH1b/5qK5z9iT9pHwX%2B2ZoGoeOtI%2BHnwytdEFraXOmWvh/xxb6zrFpHcK8iQ6vZR2caaXc%2BX5bGAT3GGLqWBjy3ungwbNDMCk7Ib67iiBOdqJcyKq/QKAB7CgDy7/hB/wDgoX/0dB8Gf/DD6t/81FH/AAg//BQv/o6D4M/%2BGH1b/wCaivZqKAPGf%2BEH/wCChf8A0dB8Gf8Aww%2Brf/NRR/wg/wDwUL/6Og%2BDP/hh9W/%2BaivZqKAPGf8AhB/%2BChf/AEdB8Gf/AAw%2Brf8AzUUf8IP/AMFC/wDo6D4M/wDhh9W/%2BaivZqKAPGf%2BEH/4KF/9HQfBn/ww%2Brf/ADUUf8IP/wAFC/8Ao6D4M/8Ahh9W/wDmor2aigDxn/hB/wDgoX/0dB8Gf/DD6t/81FH/AAg//BQv/o6D4M/%2BGH1b/wCaivZqKAPGf%2BEH/wCChf8A0dB8Gf8Aww%2Brf/NRR/wg/wDwUL/6Og%2BDP/hh9W/%2BaivZqKAPGf8AhB/%2BChf/AEdB8Gf/AAw%2Brf8AzUUf8IP/AMFC/wDo6D4M/wDhh9W/%2BaivZqKAPGf%2BEH/4KF/9HQfBn/ww%2Brf/ADUUf8IP/wAFC/8Ao6D4M/8Ahh9W/wDmor2aigDxn/hB/wDgoX/0dB8Gf/DD6t/81FH/AAg//BQv/o6D4M/%2BGH1b/wCaivZqKAPGf%2BEH/wCChf8A0dB8Gf8Aww%2Brf/NRR/wg/wDwUL/6Og%2BDP/hh9W/%2BaivYNR1LTtIs5NR1a/gtbeJcyz3EoREHqWYgCvK/Gf7ev7Evw%2BeSHxf%2B1n8PLSaIkSWv/CXWkky/WJJC/wClY1cRh8Or1ZqPq0vzaPRy/J83zefJgMNUrPtTpzn/AOkQnb52Kf8Awg//AAUL/wCjoPgz/wCGH1b/AOaij/hB/wDgoX/0dB8Gf/DD6t/81Fefa7/wWm/4JuaReHS9P/aEbWrz%2BC00DwvqV4z/AEaO3KH/AL6qif8Agr38MdaGPhj%2ByP8AtBeMS3%2Brk8PfCyZo29CWlkTA98VwPPMnTsq8X6Pm/wDSVI%2Bth4WeI8oKc8qrwT61IKivvrToo9P/AOEH/wCChf8A0dB8Gf8Aww%2Brf/NRVv8AZW%2BI3xp8Yax8UPAnx01/wvq2qeAfiFFodnqvhPw1c6Tb3VrLoOj6mrPb3F7eMsiyajKhYS7SsaHapznyX/huX9vfxt8vwg/4JSeKhE/3bzxz470/RvLH95oXDOfoDmui/wCCdes/GTxDrfx51n9oDwXpXh7xdP8AGaA6to2iaibu2tgPCPhsRBZiBvJhEbMegZmA4Fb4bMMPi6jjTUtr3cJRX3ySv8jyc74Qzfh7Cxr42dFNvl5IYihVqLRu7hSqVHFK1m21q0up9J0UUV3Hy4UUUUAFFFFABRRRQAUUUUAFFFFABRRRQAUUUUAFFFFABRRRQAUUUUAFfKf7SviD%2Bxv%2BCuX7LGnb8f2t8O/idaYz97A8OT4/8g5/Cvqyvh/9vnWv%2BEc/4K9/sR6uX2h7f4h2Z54P2i00eID82FceOqeyw3N2cf8A0uK/U%2Bi4Vwqx2cqh/NTr/esPXkvxifcFFFFdh86FFFFABRRRQAUUUUAFFFFABRRRQAV594h%2BAfwK%2BOOk23/C6vgt4S8Yf2Xqup/2Z/wlPhy11D7J5l2/meV58beXu8uPdtxu2LnOBXoNeI/HP9uf9ln9i7SdI/4aX%2BKP/CNf8JLqusf2L/xJL68%2B0/Z7v99/x6wS7NvnxfexndxnBxz4qeFp0HLEuKh15rcu%2Bl76b/iOOayyV/XI13QcPtqbpuN9PjjKDV720kr3trexq/8ADA/7Cv8A0ZZ8Jf8Aw3Omf/GKP%2BGB/wBhX/oyz4S/%2BG50z/4xXkn/AA/N/wCCWX/R0X/lk65/8hUf8Pzf%2BCWX/R0X/lk65/8AIVeP9e4V/wCflD/yn/kaf8RSxP8A0PZ/%2BFlX/wCaD6e8DeAfAnwv8LWvgb4aeCtJ8O6JY7/sWj6FpsVpa2%2B92kfZFEqom53ZzgDLMSeSa8J8TfsL%2BK9f%2BJfinxBB8Z9Ng8M%2BJfjB4b%2BIp0STwhJJe22paXHpMTwC8%2B2iN4Jo9JjwPs4eJ5mbfIqhK9f%2BBnxz%2BFn7Snws0v41/BTxT/bXhnWvP/szU/sM9t53kzyQSfu50SRcSxSL8yjO3IyCCeQP7Z3wwHjofDIaBr58QH4ov4FOki1g80Xy6QdZN0f32BaHT8XAkzuw6rs3nZXuUZUpUoypW5Wla1rW6WtpbtbQzeKeOf1l1PaOfvczbk5X15uZtuV97ttve7PK/EP/AATHl8Q/tt6d%2B19d/FLw7I2l/EVPFdqLv4dpP4gVRor6WdIGstd5j04eY1wlvHbptkJ3M%2BSag8Ff8Esh4P8AgTqXwVHx0%2B0HUPg54E8B/wBqf8Ixs8v/AIRua9l%2B2%2BX9pOftH2zHlbh5Xl53ybsCOP8A4KwfDv4n%2BEtY/wCFFaZbJ4m8MfEj4e6H4i0jWda0nVY4tP8AEfiq00Zp1l0TUrqFZhG19tjeVZIpYY2lhKOokg%2BMX/BUyLwJ%2Bz1438bfDb4W%2BI/Gnivwx4Z8a61OmneHbeGy0S10XVNR02G61CKTUhJJA9xYSKBaySXE6QTSrBBzHHoI%2Botd8ES%2BO/BniLwD8Srqz1HTNfgu7F4LGye2K6fPGYzC5aWTfJtZgZF2A5GEXHPkP7Ov7Inxb%2BCuq3fjXxh%2B0BpXizxNH4Q0LwjoWpy%2BCHs4LXRNNnmkPnQLfMZ764FzL5twrxRbkhZLZVRkk9h8A%2BNIfGWkJM9rdRXcNratfGTTLiCBpJbeOb9xJKoSdAJAC0bOFYMjEOrAfPX7Iv7Y3xs%2BMvj7wIfifpvhZfDfxl%2BGmq%2BOfh9BoOm3MF5otjZ3mmxraX8stzKl5LLb6vaS%2BbFHbqjwzIUYFGIBq%2BHP2FvGPhf4tW3ivTvjjYv4T8N%2BNvEvjbwF4Wn8IsZ9L8R63FfJdXFzdi8AvLZX1XVHS3WGBh9sw0zCNMc14I/4JxfEk/s4%2BJ/gd8dPj34T8Yaxr/irSfFreN7b4aT2d3feI7DUbfUIr7U459VuUvovOsrKMWsX2aOO2g%2Bzx7I9gj0PEn7Y3xs0r4%2B6rLY6b4W/4Vn4e%2BMuj/DXU9Pl025OtXN7qFhYzLqUV0LkQxwx3WpW1ubZrdmZI5ZfOXKx1z3xC/au/bS%2BDnxE%2BMOiX158P/iBpfwy%2BEkPiN4/Dnw/1LS7i21a9uplsraVzqt79ojitbO6uLhI4kl2PblMbwCAbXjz9gL43%2BJv2fvFfwv8OftJeEtO8TfED4lweMfGfiG6%2BF9xPp7zQvZNHBY6fHq8T2ik6dal2kuZ2djO5w0oZL3xY/YK%2BJnxe8b3viLX/wBoPRodP8XWPhRPiLYw%2BApGnuLnRLs3aSaRcPqBOlRyysT5cqXjREl45BIWkOR8EP2w/iv%2B0N4N%2BIej/Dj9pH4Mz33w08S2w1b4rW/hG8ufC%2BoaLNpa3rTw266wu2SKVngkf7fJEot3ckMTFHjfFT9un9pnwj%2BxJ4H/AGxdP0bQNOudW8Npfaj4Ou/hrrWoR6rcNhoj/acN1FF4dtJowHF1qMTxQLMplb92wYA9R%2BD/AOy58efAX7Uvjb9orx/8evCXiuHxXNLbabay/Dm6t9S0LR0JNlpNvef2tJCsEbEyzMtqrXMzM7FMRrFR%2BA37Mn7YXwU8JePbF/2oPhxqWueL/GkviTTdRj%2BDd/BaafPcSbryKW3OvyPcxsqxiLbNC0RDFjMGCrN8Wvir%2B1N4J/bJ%2BGfwg8J%2BOfAGo%2BGfHep6ldaj4fn8BXy6rpeg6fYb7q8/tBdW8mR/t0%2BnW6/6GqgX65yUy/Ffs4ftf/tTfHY%2BD47s%2BANPPxt%2BDd38RfhRKnh6%2BYeH7OG50tfsuqL9u/4mEn2fW7CTfCbQF0nTaBtegDrdL/ZA%2BPXg/wCCt/8AC7wF%2B0D4Mjv/ABTrOv6l451HxB8Kpb%2BzuZNVnaWWPT7JdUhWyiQu%2BEme7EhbdJvYsWTxR%2Bw/4413wR4B%2BAFj8bNJg%2BGHgVvCkkWn3fguS48R3cmg3FtcWzf2sb4RR%2BZJZw72FmZNrShHUurJwHxD/bJ/a50L9hn4/fHnwRrPwz1LxF8DtR8QNZ%2BKJPCOoHQfFtnpOjpfXIt7RdS82CRbw3Gmu32uZElsZ3w3%2BqXtP2tP2p/i78Dv2h/DHhKHxNonhD4c3PhqTUPEfjfxD8Jtb1%2BzguxfQwpbTX1jd29tpKNE8j%2BfdkoCuegIIBP8M/2AZPhv8dNL8e2fxL0w%2BEfDfjzxR4z8N%2BGrLwl9n1JNX183bX/2vUvtLC6tg9/dNHCtvEV/0cNI4t0zbP7Ct9b/AADl%2BH2m/FuNPG5%2BKU3xCh8dXHh4yRHW21Zr9BLZC4UyWywlbDyhOr/ZkAWRHCuuD/w2N8bP%2BGgfM/szwt/wrH/hc/8AwrT7B/Ztz/bf2z%2BzfP8A7U%2B1fafI8r7b/ov2X7Pu8v8Af%2Bfn9zXB/Dz/AIKFftDL%2By58Q/ip8TrzwuPiJ4Y8HjW4Phne/CnW/C9zpUZnki%2B0O2p3znWbcYGHs1iWR0MSvvlQKAdw/wDwTq8WaZD4e%2BIXhf40eHD8T9M1HxZc6v4r8RfDs6hpl8viKaGXUIotNF/E1uq/ZbOKEm5kKxW%2ByXz/ADHYt1H/AIJieFdUk%2BE3hDUtb8IXvhL4TaJ4asNNvdS%2BHUdx4vu10R4ZraM6611iG2kmtoHmhS13SASp5gWUgZnw1/bC/aJ%2BJn7Ofj34jQeL9D03UPh/8QzpE%2BrL%2Bz34ovrvU9P/ALPsp8t4Tjvl1jT7kT3uzbK7loLcXQjENwjo/wAVftg/tR237J3w2/a/0ST4dWkHifQvDr3fw6m0q61DUPEOr6jPGhsNNv4L5IrdmWQeXut7rBDGQqiM1AHTfD79hDxp8PvH8WvWnxz0670DwtJ4qvPhf4fufBjFtFvtcuHnllvpxe41GK3Ms8MESR2pEMzLI8rhZVWw/wCCeOj/ABE8T%2BJfiL%2B1d8QD4n8SeItU0W8ju/hwdV8FQac%2BlQXkNpLCbLU5Lsz7b%2B5Ekr3TB18ldiiFKzPAv7depfEb9s/XPgrbfEHw14f8N%2BH/ABrP4Sg0rUvAGrXN3r2pQ6Wt5IsetLPHp1lOHdili8c1xLBavKComXy%2Bj/Zs%2BK37UniX9qb4j/Bf4ueOPAHiXw74D0HRhNrPhLwHfaLMuuXwnuHsmFxqt8riGyWymbAQn%2B0IscKcgG1%2BzX%2By9pH7HH7Ia/ADRfGeq%2BIItI0/UZG1XWNRu7iWZpnllOPtVxO8ajeAEEhXIJABY0vjj/lIX8L/APsjPjz/ANO3hCvUvHP/ACJOsf8AYKuP/RbV5b44/wCUhfwv/wCyM%2BPP/Tt4QoA9mooooAKKKKACiiigArwX9j//AJN61f8A7L345/8AVgarXvVeC/sf/wDJvWr/APZe/HP/AKsDVaAOs1/9ib9jLxXrt74p8U/sj/DHUtT1K7kutR1HUPAOnTT3U8jF5JZJHhLO7MSzMxJJJJOTVT/hgf8AYV/6Ms%2BEv/hudM/%2BMV534/8A%2BCyn/BNz4X%2BO9b%2BGnjr9o77Drfh3V7nTNYsv%2BEQ1iX7PdW8rRSx747Rkfa6MNysVOMgkc1kf8Pzf%2BCWX/R0X/lk65/8AIVeDPG8MKbUp0b3d7%2BzvfrfTe97mn/ETcTQ/dLPJx5dLfW6qtbS1vrCta1rWVrWsrWXs2gfsTfsZeFNdsvFPhb9kf4Y6bqem3cd1p2o6f4B06Ge1njYPHLHIkIZHVgGVlIIIBByK1v2mvgnZftJ/s6eO/wBnvUNfl0mHxv4R1DQ31WCASvZ/ard4RMEJAcoXDbSQG24yM5rxrwD/AMFlP%2BCbnxQ8d6L8NPAv7R327W/EWr22maPZf8IhrEX2i6uJViij3yWiom53UbmYKM5JA5r3H46/GHw5%2Bz78HvEfxv8AGWmajdaN4V0qXU9ZTSoUknis4hunmCu6BljjDysM52xttDNhT6GBrZbWhJ4OUGk9eTltfz5UtbdyZcSVOJP3s8a8TyaXdWVXlvra8qlS197Jq%2B9up5H4i/Ym%2BIXj/Qfi7L49%2BPtrF4k%2BLfw703wzfa14T8KzabDpslmNRC3MUUl9PIyOL8BojMDiJsSDzBs4b4I/8EpovhF4ih8TQ/EnwhYbfi4PHL6D4C%2BF8egaRAw8I3nhw2dtapeSmEN9qF20rPIzOjKR84dPRfjP/wAFEPg78FtL8Xa5qnhvU9QsfBXi2z8N6xqI8QaDpVo9/cabFqISG41fUrOGTZBPAGAffvmCor7JCnI2v/BR3SfFPj6O/wDBNxaXHgLXPBnwk13wjqsWhST3l1/wmHiDVtNKzI93CscYis7MqwBeBpJnZLnCwV3EnV/A39ijxD8Ao/Al34R%2BLllc3/gb4G6V8OreXUPC7tDd/Y5IGN80aXasu9YWAhDnYXB8xtu1us/aN%2BAXjj4qeIPB/wATPg/8T9O8I%2BM/BN7ePpWqa14afV7Ge1vLVre5tp7VLq1dwf3MqssyFZLePO9C6N5h4N/4KNH4mftFeD/BHhD4P%2BJrLwD4j8FeLNftPFmqaEs7eIYdJuNOhjn0uOyuZpzG/wBqlbyp7dJ5g0DQoQTn0n9qT40fED4e6N4F8LfBxNIh8UfEnxvb%2BHdC1DxPpc9xZabmyvNQnuZ7WOa3lm22thcBYhLETIyAsozQBW8L/su6x8PP2YbL9lrwT4q8NX%2BiaX4FtNBsz448GNqyXtwgK3FzfwpdwR3UU643W6iHDM58wqyonnGmf8E17fwt%2Bz5ffB3wpN8IJb7xD44bxP4nPiT4HRX/AIfFz9jis4Rp2jLqESWBgt7azjiZppyBAxcSNIzDpdA/a0%2BKVz%2Bwb43/AGjn%2BG9prfjnwHD4v0%2B78PaHFOLbVtV0G/v9Pc26fvZlhnlsTKkYMsqpKEzI455D4B/tkfEv9oXRfiT4P8CftMfB/UNV%2BHMumajc/E/R/BF7d%2BGr3Sru0mlZVtV1lWWaGS3uEeVb2RB5fKK%2B9IwBnjP/AII6fs3694A8HeEvCvi7xxoWo%2BFJPB0NxrenfEDXLX%2B1rLQL%2BK7jjntbK/trbz5NtxtuRGHgluWmjG5QK6nS/wBgW6i%2BMMGteIfixbah8OdM8d69400LwJ/wjTR3cGtaxZXtrembUBdFZ7X/AImmpypALeN1kugTK4iRa8cT/gpV8etN%2BEPweh%2BJPiHwb4Q8X/EH4c6p4%2B8QeIH%2BFGvaxY6ZokVzbizVtIsb43Nsxtr2B7m5mu/ItWgkD/61Avv/APwu34zWf7b/AIN%2BEMmu%2BDNS%2BHfjj4Xa74g0qTTNJuf7Sju9NudDi8w3f2toJbeVdWkKosAYeUh81skUAZX7IH7DGq/sxeI9N1jXvipp2v2/hb4a6f4B8F2mkeERpJt9Es5TJEb5vtMwvbv7gMqLbxDEhSBPNavcvB//ACCZv%2Bwrff8ApXLWpWX4P/5BM3/YVvv/AErloA1KKKKACiiigAooooAKKKpeIPEnh3wlpUuu%2BKtfstMsYBma81C6SGKMerO5AH4mk2oq7KhCdSahBNt6JJNtvskk236Jl2ivm/4l/wDBW3/gn38M9S/sGb9ojTfEOqM5SHTPBdtNrMsrj%2BFWtEeMH6sK5n/h5/8AEXx3%2B7/Z6/4JwfG/xPu/1F/4g0OLQbGb0KT3DtlfcqK8yedZVCTiqqk10jeb%2B6Cl%2Bh9xhvDPj3EUI15ZfOlTeqnW5MPFrupYipQuvNJn1tRXyP8A8Jd/wWb%2BMJxoPwi%2BEPwdsJfvt4l16fX9ShH%2Bx9kAt2b/AHhilX/gnr%2B1n8Rh537Q3/BUv4m3Rl5ltPhvp9p4ZjQf3FaFZGIHTJGT3qf7Tr1f4GGqS85JU1/5O7/%2BSm/%2Bo%2BWYL/ka51haT/lpSqYuf3Yen7O//cZ%2Bp9W6xrei%2BHdPk1fxBq9rY2kQzLdXlwsUaD1LMQBXiPxN/wCCnv8AwT9%2BEPmJ40/ay8HGWHPm22jal/acyEdjHZiVgfYjNcVo/wDwRg/YTOoR638TPCfif4gajEcrqHjrxrf3rk9yVWVI2z7qRXt3wy/ZS/Zj%2BC/lv8J/2fPBnh6WLG250nw3bQzEjuZVTex9ySaOfPKu0KdP1cpv7oqC/EPYeFmA%2BOvjMW%2B0KdDDQf8A29VniKlvPkT8jwn/AIfG/s%2B%2BIR/xZv4F/Gr4h7v9S/g74Y3UqyehBnMXHvQf28f24/G/yfBn/glJ42kV/u3PjvxhYaEIx/eaOTex/wB0HNfWtFH1PM5/xMU1/hhBfjLnYv8AWXgbC/7pkMZvvXxWIqffGksPH7mfJJ1H/gtZ8R/ktPDnwH%2BG9nJ997281HV7%2BH/dEeIGI96T/hgn9tj4j/P8ff8Agqf46MMn37D4a%2BHLPw75Q/urPHvdv94jNfW9FH9j0J/xqlSfrUkl90eRD/4iPmmG/wCRbg8JhfOnhaUpf%2BB1/rM7%2BasfKGn/APBGD9iS%2BvY9W%2BLlh41%2BJF9G25b7x948v7xy394iOSNG/FSPavVPBf7BH7Enw9SMeEP2TPh5ayRABLlvCNpLOP8AtrJGzn8Wr1uitqOU5XQd6dCCfflTf3tSf4nm5h4g8d5rDkxWaYiUf5fbTjFeShTlTgl5KCXkUdC8M%2BG/C9p9g8M%2BH7HToB0hsbRIU/JABV6iiu9JRVkfJTnOpNym22%2Brbb%2B9tv8AEK8Z/Zf/AOS3/tHf9lmsf/UK8L17NXjP7L//ACW/9o7/ALLNY/8AqFeF6ZJ7NRRRQAUUUUAFFFFABRRRQAUUUUAFFFFABRRRQAUUUUAFFFFABRRRQAUVzHxo0Pxb4j%2BFut6R4F%2BJWpeD9Vksy9p4j0iytLi5sijB2Mcd5DNAzMqsn7yNwN%2BcEgV4Cn7TXxltv%2BCS/gP9pFfEsEvj3xX8N/B7T%2BILrT4vLg1PWBp9tJqDQIqxERy3jXBiCrH8m3AXigD6lr88/wDgrrq7%2BHf%2BCkP7D%2BuqSFTxvrFtI/8AdWe/8PQkn0Hz19RfsieNfiXd%2BK/ix8FPib8Rr7xlN8N/Hltpel%2BK9VsbO3vb60utE0zU1S6Wxggt/OjkvZY8xQxgxLCSu4szfF3/AAWg%2BJ3hvXv2ovg7PpGm%2BIYLz4atqOo39zqvhHUbC0YnxF4SjVra6uYI4L0DcctbvIFyNxG5c%2BVnbccpqyXRJ/dKD/Rn3vhdCNbxAy%2BjL/l5KcPnUoYmmvxnE/TuiiivVPggooooAKKKKACiiigAooooAKKKKACsrwf/AMgmb/sK33/pXLWrWZN4S0aa4kuVN5C0rl5FtdSnhVmPVtqOBk9zjmgDTorL/wCEP0n/AJ%2B9V/8AB5d//HaP%2BEP0n/n71X/weXf/AMdoA1K8b8S/sM/BXxb%2B07qf7VOu3Gty6xq/gKbwre6ImoKmmNFKdsl%2BI1QSLfGAC288ScQqECjkn1D/AIQ/Sf8An71X/wAHl3/8do/4Q/Sf%2BfvVf/B5d/8Ax2gD548D/wDBLX4TeEY2Gs/G74j%2BJJVt/AlpZS63e6Yv2Kz8Ja3/AGzpNrElpYQxrH9oJSYlTJJGT86yfvKb49/4JW/Bzxl4J1rwLo3xm%2BI/he28UaR4l0fxbc%2BHNT09J9a0zW9UvdTuLOZp7KUIkVxqF15EkIimRJWUyPuYt9E/8IfpP/P3qv8A4PLv/wCO0f8ACH6T/wA/eq/%2BDy7/APjtADPCfhWbwnDLYp4n1C%2BtNkEdjaXqW%2ByxjigSLZGYokdgxQyMZGc73baVTai%2BR/Cf9gzwN8F9avNd8FfF3xuJrbwvqXh3wFHeT6dNH4E02%2BuI7meDS1Nlhl86C0Zftv2vC2UEfMalG9f/AOEP0n/n71X/AMHl3/8AHaP%2BEP0n/n71X/weXf8A8doA8t1f9iH4caz8e3%2BOU/jnxVHbXPim08Ual4FiurUaLfa9a2KWNvqcqm3Nz50cENuBGtwsBe2ikaIyLvPS%2BF/2d9B8EL8SNQ8I%2BN/EFjrfxN1yXV9X8SrJayXlhcmwt7CA2olgaFUt4LWARJLHKu5CXEm993W/8IfpP/P3qv8A4PLv/wCO0f8ACH6T/wA/eq/%2BDy7/APjtAHg3xB/4Ju%2BDfiV8KNS%2BGfiP9or4km98R%2BN7PxP408Wq%2Bivf%2BJprWBIbeyvYZdMexaxVIbbNrHaxxubZd4bzJxL0nxd/Y61P45fDofCX4jftXfE268O6h4fm0Xxlplumg248VWcxcTJdvFpayQGSKRoWaya1Ow8YYB69V/4Q/Sf%2BfvVf/B5d/wDx2j/hD9J/5%2B9V/wDB5d//AB2gDAtPgb4Qtfj7c/tFyXt/PrUng2Dw1ZWc0sf2TTrNLqW5laBAgdZJ3eESlnZWWytgqptYv5LoP/BNf4e%2BFPCuueE/Cvx8%2BJumR3fgm78H%2BDL2w1awiufAWh3MyTS2WjSrZZiBMVuoluftEyLawBZF8ta95/4Q/Sf%2BfvVf/B5d/wDx2j/hD9J/5%2B9V/wDB5d//AB2gDw/W/wDgnxpOvfsWaz%2BwrcftNfEO28Ja1ok2gy3%2Bm6Z4Ztb220SWzNpLpcKw6MttHA0TP8/kGcM5KzDgDa%2BLH7G%2Bo/HD4dxfCT4oftW/EvU/DV7oUmj%2BM9JWLQLdPFtpIz%2Bcl68OlJJF5sTtC/2JrUGPjAbLH1b/AIQ/Sf8An71X/wAHl3/8do/4Q/Sf%2BfvVf/B5d/8Ax2gDy3/hiH4cf8L/AP8Ahe3/AAnPir7P/wAJX/wlX/CCfarX%2BxP7f/s3%2Bzf7U2fZ/tPm/Zv%2BWX2j7P5v7/yfO/eVia3/AME8vBnj2HXrr40/Hr4i%2BONY1fw/Do%2Bm%2BIdcutLtrrQLeK9iv42sl06wtoRKLu2tZzJNHMzNaxBiUBQ%2B2/8ACH6T/wA/eq/%2BDy7/APjtH/CH6T/z96r/AODy7/8AjtAHk2gfsY6n4S0PWx4R/a1%2BJ%2Bm%2BJ/FHiYa34q8dRReH5dS1eVbKGxjhkim0l7KKGOC2gVVgtoiDHuLFnkL88/8AwTb8GaV4n%2BHHiP4c/tE/EnwrH8LfDUmkeGNK0%2BTRb61DzOTdahINT0y6c306sYnuEZGEbSImwSy7/ev%2BEP0n/n71X/weXf8A8do/4Q/Sf%2BfvVf8AweXf/wAdoA8svP2IPhzefHH/AIXK3jvxVHZN4wj8WzeBIrizXRZtfjsRYpqTD7N9r8wQqh8oXAtzIglMRkJY9t8Hfgh4T%2BCo8UzeHNQ1C9u/GPjK%2B8S67f6pKjzTXdyUUJlEQeVDBFb20QILLDbRBmdgXbd/4Q/Sf%2BfvVf8AweXf/wAdo/4Q/Sf%2BfvVf/B5d/wDx2gBPHP8AyJOsf9gu4/8ARbV5d44/5SF/C/8A7Iz48/8ATt4Qr1E%2BDNDfCztfTJkExXGrXMiN7MrSFWHsQRXl3jj/AJSF/C//ALIz48/9O3hCgD2aiiigArwL9tKTU/EvxH%2BCvwUvvGviDw/4Z8b%2BPL608R3fhjxJd6PeXv2fQtSvLexW9s5YriAPLbiY%2BVIjOLTYSUZ1b32uf%2BJ3wm%2BFfxs8IzfD/wCMvw08P%2BLtBuJEkuNE8T6NBf2kro25GaGdGRirAEEjgjIoA%2BWPDGpftIfHz/gnP8KvEfhrXPE/ie6fWrR/FZ8N%2BKl0bXfF/h23nuIVktNQ8%2B2EVxcRpaXbOs9uJU81VkQSivm3xb8Yf2svi18D9D0jwr4v1%2B2v/D3hL4t6lDp%2BofGTUNEuINM0nxCljpOrSarYNIdburOBRCLadzaXfmNPNdD91JL%2Bk3ij9nD9nnxx4VvPAnjT4DeDNY0PUY7SPUNG1TwvaXFpdJaALarJDJGUcQhVEYIPlgDbjFQ%2BNP2Yf2aviT4c0Lwf8Rf2efA2v6R4WCjwzpWteErO6ttICqqKLWKWNlt8KqqPLC4CgdAKAJfC3xD1C8%2BAOjfFDw94d17xhcXfhiz1C10%2B0gs7PUdUMsEbj5LmeG3hlYNuKPKiqcjPAryr9hnVr/Xv2WLjXNV8MX2iXN38b/Gk1xo%2BpyQPc2Lt4%2B1UtDK1vLLCXQnaxjkdMg7WYYJ%2BiQAoCqMAdAK8T/YesLTU/gLr9jfQCSKT4y/EYMpJH/M7a0QcjkEHBBHIIoA9sorK/wCEP0n/AJ%2B9U/8AB5d//HaX/hD9J/5%2B9V/8Hl3/APHaANSqmvaFo/ijQ73wz4i02K80/UbSS1vrO4TdHPDIpR42HdWUkEehqt/wh%2Bk/8/eq/wDg8u//AI7R/wAIfpP/AD96r/4PLv8A%2BO0AfP3gn/gmD8KPhp8I/Afww%2BHnxq%2BI%2Blah8Ptb1PVNL8crqen3Ot3kt%2Bk0V0LqS5spIJN0U3lK6wpLGkMQjdNpJseBv%2BCYnwD%2BH/hrw94V0Txb4wktvDXhr4eaHYNd6lbPI9t4N1W71TS2kb7ON0ks95Ktw3AdFQRiFgXb3n/hD9J/5%2B9V/wDB5d//AB2j/hD9J/5%2B9V/8Hl3/APHaAPEPht/wTu8C/Cn4iaX8QPCXx1%2BIir4X8N67oXgPQri802Sw8LWeqzW00yWiGx3ymJ7SDyTdPcbFTYdyfLXpHxz%2BAeifHfwbpfhzV/Gmu6Jqmga1a6x4e8WaA9quo6ZqEAZVuYhPBLbsWjkmidJIXjeOaRSmDx0//CH6T/z96r/4PLv/AOO0f8IfpP8Az96r/wCDy7/%2BO0AcZ8M/2cNO%2BEHw0tfhf8P/AIoeKbK0g0/WBd3zNYy3V/qmpXZvLjWZnktWBvRcyXMwCKtuWvJd8DgRCPmJ/wBhfwPrXwc%2BI3wn8dfFjxt4ivPixataeOvGmpXVjFq99aG3W1FqhtbSG2t4RbhogkMCY86WT/WyNIfWv%2BEP0n/n71X/AMHl3/8AHaP%2BEP0n/n71X/weXf8A8doA85/aB/ZA8H/Hq703VrX4ieKPBGo6d4c1Hw62peCXsYpbnRb77ObrT3F3a3CLGzWtuyyRqk0Rj/dyJucNm3X7E%2Bkw/HzwJ8cvCXx98d%2BH7X4deFpvDnh3wNpUOito40uZrFri2kNxpst4wlOm2eWFyrr5P7to9z7vWP8AhD9J/wCfvVf/AAeXf/x2j/hD9J/5%2B9V/8Hl3/wDHaANSsrwf/wAgmb/sKX3/AKVy0f8ACH6T/wA/eqf%2BDy7/APjtX7CwtNMtEsbGARxRjCqCT3yTk8kk5JJ5JNAE1FFeG/tEf8FHP2Qf2Z9RPhbx38VrfUfEzyeVbeDvC0Tanq00vaL7PBuMbHt5pQH1rDEYnDYSn7SvNRj3bS/r0V35HqZRkec8QYxYTLMNOvVevLTjKTt3dlZJdZScYrrJHuVFfISftL/8FPv2i1A/Zz/Y00f4Y6Lcf6jxR8atXYXTRn%2BIaZafvYZAOQJCyk9eM0v/AA7M%2BLPxt/0v9uP9uzx944hl5n8JeEnTw7ojA/8ALKSG2y86gcBiyMep6mvP/tSrX/3WhKfm/wB3H75%2B8/lA%2Bv8A9RcDleuf5rQw7W9Om3i6/pyYdulF/wCPEqz3W56h8d/%2BCjH7FP7N80mm/FL9oXQYtUjfZ/YWlTnUNQ8zOAht7USSISeBuCj3rzAf8FBf2rvjh/o/7HP/AATx8YXlnLxF4t%2BKl1H4esFXtMkLlprmM/7BVvbiva/gR%2BxX%2Byh%2BzLBGnwM%2BAfhvw/cRrtGpQaeJb5h6NdS7pn/Fz1r1Cj6vm%2BI/i1lTXanG7/8AA53/AAgg/tjw8yfTAZbUxc19vF1OSHqsPhnFW8qmIl59b/Iw/Zp/4Kn/ABpAl%2BOP7d3h74fWMvNxoHwg8Ih3wf4Vv70%2BdGR6gGrvh/8A4I4fseTarF4n%2BOEvjX4s6zEdy6r8TPGd1fvuPX92jRxEH0ZSK%2BrOnWuU1/48fA7wpdtYeKPjL4U02dPvw3/iK2hdfqHcEUpZRlcfexC533qScvwk1H7omFfxT4sw1NwwVeGBg9LYanSw2nZzhFVX/wBvV3frcd8M/gf8GPgvp/8AZPwg%2BE3hvwvbFdrReH9EgtAw/wBrylXcfc5Jrqa82vP2yf2QdOONQ/ar%2BG0BHabxzp6/zmqjN%2B3j%2Bw5bf8fH7ZnwpT2b4iaYP/a9dkcVl9GPLGpCKXRSgl93Mj8%2Bxed0MXXlWxWKU5veU6qlJ%2BspVJN/Ns9XorwrX/8Agpz/AME9/DW7%2B0f2xfAEm3r/AGf4ihu/y8gvmuTuv%2BC0X/BMazna3m/as0wsvUxaHqUi/gy2xB/Os55vlVN2liIL/t%2BP/wAkefUz3JKTtPFU1/3Eh/8AJH1DRXytcf8ABbL/AIJf20LTv%2B1PaMFGSI/DOqux%2BgW1JNU/%2BH0X7H2r/wDJOfDvxM8Y5/1f/CM/Da/l3/TzUjrN55ky/wCYiD9JJ/grv8DJ8ScPrbFU36STf3R5n%2BB9a0V8k/8ADzb4u%2BLOPhD/AMEwfj1qe7/VS%2BJ9Bg0OJ/cPNI/y%2B%2BKUftZ/8FUtSH2jS/8Agk9Z2sL/AOrGo/HDSvMx6sqx8H27Uv7awL%2BDnl/hp1H/AO2IX%2BsOWy/h88/8NKq19/s0fWtFfJX/AA0h/wAFcLv5Lf8A4Js%2BErQno918YrSQD6hI80f8LT/4LOap/wAeP7K3wZ0vPT%2B0/HF1Pj6%2BStH9r0HtSqv/ALhT/Wwf29h38NGs/wDuDP8AWx9a0V8lY/4Lka33/Zh0SI/9h%2B5mX/2Q0f8ACtP%2BC0V188/7TXwStSeqW3gy9cL9C7ZNH9qSfw4aq/8AtxL85h/bU38OErv/ALcS/OofWtFfJX/Ck/8AgsXfjyrr9tz4YWCnrLY/DZpWX6CR8Gj/AIZD/wCCous/Nr//AAVpWzQ/et9G%2BCWkrj6SNJuo/tLEv4cLU/8AJF%2BdQP7Wxb%2BHBVX6%2BzX51T61rxn9l/8A5Lf%2B0d/2Wax/9QrwvXmH/DBP7b93/wAhf/grV48fPX7F4J023/8AQScV0X/BOv4d%2BK/hRrfx58AeN/ivq3jjVLD4zQfavFGuRIl1e%2BZ4R8NyLvWP5RsV1jGP4Yx3row2JxNabVShKC7uUH8rRbZ1YTGYzEVHGrhpU1bdyg/laLb/AEPpOiiiu09EKKKKACiiigAooooAKKKKACiiigAooooAKKKKACiiigAooooAxPiN8P8Aw/8AFTwTqHw%2B8VXOrw6dqkIiu5NB8Q3ulXYUMGxHd2MsVxCSQATHIpIJU5BIPBeCP2JP2c/AHwRb9m/RvDWu3ngc%2BGX8Pr4c8Q%2BOtY1aCPTSAogT7ddysgRQFjZSGiVVWNlUAD1iigDkfgx8C/hp8APDV14V%2BGWlX0MOoanJqOqXmr67eapfahduiI09zeX001xcyeXFFGGlkYqkUaDCoqj4e/4Lz6VPqfhm3uLLi40/4L%2BJ763cD7jQ%2BK/Ark/98hq/Q%2BviP/grn4f/AOElbUdO2bvL/Zc%2BJl3jH/PDUvCM%2Bfw8vNednFP2uU4iHeE//SX/AJH2fhxilgfELJ8Q9o4rDv8A8rU1/wC3H2loWqwa7olnrlt/q7y1jnjwf4XUMP0NWq4H9lPxB/wln7Lvw28U7939p%2BAdHu92evmWUL5/Wu%2Brto1Pa0Yz7pP70n%2Bp8zmWFeAzKvhX/wAu5zh/4BOcf/bQooorQ4gooooAKKKKACiiigAooooAKKKKACiiigAooooAKKKKACiiigAooooAKKKKACiiigAooooAKKKKACiiigAooooAK8Z8cf8AKQv4X/8AZGfHn/p28IV7NXjPjj/lIX8L/wDsjPjz/wBO3hCgD2aiiigAooooAKKKKACvGf2D/wDkiGuf9lm%2BI/8A6mut17NXjP7B/wDyRDXP%2ByzfEf8A9TXW6APZqKKKACiiigAooooAKKKKACiiigAoqtrOs6P4d0q413xBq1tY2NpE0t3eXk6xRQxgZLu7EBVA6knFfKnjT/gqFH8TPE138Kf%2BCePwa1L4zeI7aTyb3xDat9k8M6S/96fUJMLLgfMEi4cAhXzxXJi8fhcEl7WVm9ktZP0irt/JW7tH0WQcKZ/xNKf1Ci3CnrOpJqFKmu9SrNxpwXbmlzP7MJPQ%2BrtR1HT9IsJtV1a/htbW2iaS4ubiUJHEijJZmbAUAckngV8tfED/AIKq/DzW/Fd18KP2KPhZr3x18X252Tp4PAj0Wxc8A3OqSDyY1PZk3qem4GvAfi/pv7Ps%2BpDxL/wWG/4KNaN4ou7eYSj4MeANSlh0WwkBysclrZ7ru7II%2BWSUIeoJYV6n8PP26PEs/hW2%2BH3/AATm/wCCX/jXUNAt126df6xp9t4R0PB/5axPMCZh3PyqzH35rwa2c1a8/ZqapLsl7Sq/%2B3Ic0Yf9vNvyO/EZr4VcH1HSxGI/tXFr/l3RdSGGi%2B0pwi8TXs/5I4am/wCdrU0h%2ByF%2B3h%2B1sft37bP7Tx8D%2BGZ%2BW%2BGPwaka13xn/lnd6lJmWXI%2BV40yh5Kla9z/AGfv2N/2V/2StHaH4G/BzQ/DrLCRdauIfNvZk6nzbuYtM46nDPgc4ArxX/hVv/BYT45/N8QP2j/hx8GtMm62HgDw2%2BtaiI%2B6ST3pEaP23xdOo9Kkg/4I8fA7xrOuoftSfHD4r/F%2BfcHktfGnjm4WxVh/zzt7UxeWuedu4irw9KUantaGFlKf89aST%2BV%2BeSXlGMPQ8POPE7jXP8G8BhcO8PhHtRhyYWh5OVODnUqP%2B9WlVk%2B6PXvHn7eX7FXwyeSDxx%2B1b8P7CeIkSWbeK7WS4Ujr%2B6R2f/x2vKNa/wCC0P7Dk162gfB7XfFvxO1sfc0H4eeCb69uZD22mSOOM5Po9epeAv2AP2IPhjHEvgr9k7wBaSQgCO7l8L209wMf9NpUaQ/i1eq6Touj6BZLpuhaTbWVsn3Le0gWNF%2BiqABXocmd1N504ekZSf8A5NKK/Cx8f7PiOr8VSlT/AMMJzf3zlFfhbyPk3/hqP/gqJ8bTs%2BAP7BOjeAtPl/49/EHxn8U7GIP9/T7L9/GR7k/pTv8AhkL/AIKV/Fj958df%2BCkY8M2cn%2Bu0L4T%2BC4LTbnrsvpyZx6cqfWvrmij%2BylU/3itUn5c3Kv8AwGHL%2BbF/Yira4rEVanlz8kf/AAGmofjJnyQP%2BCMf7LniMA/Gz4lfFr4ks3%2BvPjf4l3swlPfIgMX6V1vh/wD4JJ/8E3/DNqtnpv7I3hWRE6HUI5rt/wAWnkdj%2BJr6Koq4ZLlEHdUIX7uKb%2B%2BXM/xNKfD2RU3dYaDfdxUn98uZ/ieJ2f8AwTb/AGALEAQ/sa/Ddsf89vCNrJ/6Ghq9D/wT9/YQg/1f7F3wpOP7/wAPtNb%2BcNevUVusvy9bUYf%2BAR/%2BROlZVlUdsPT/APAIf/IHn%2Bgfsmfsr%2BFMf8It%2BzP8P9N2/d/s/wAGWMOP%2B%2BIhXW2ngnwZYQC2sfCWmQxr92OKwjVR%2BAWtOit4UKFNWhBL0SX5JHTTw2GpK0IRXpFL8kinB4d8P2sy3FtoVnHIpyrx2qAg%2BxAq5RRWiSWxqklsgooopjCiiigAooooAKKKKACvGf2X/wDkt/7R3/ZZrH/1CvC9ezV4z%2By//wAlv/aO/wCyzWP/AKhXhegD2aiiigAooooAKKKKACiiigAooooAKKKKACiiigAooooAKKKKACiiigAorjv2g/jNoX7O/wADvFnxz8SaZdX1n4U0C51KTT7Hb5940UZZLeLcQvmSMFjXcQNzjJAya4z4Q/tPeN/E9l8RPD3xf%2BDCaF4z%2BG0cNxqvhvwnrz65FqFrPZC7tpLOd7a1eV32zQeW0KETQOAWQpIwB7JXy3%2B3L4f/AOEs%2BNEHhby939p/st/FS1246%2BZc%2BFkx%2BtbH7Av7fkH7cDeIks/CnhiCLQdK0e/Oq%2BCfHf8AwkOnh79LljptxP8AZLb7PqdsLdWubTa/lLdW53nzMDb%2BK2kwa9%2B3f8O9Duf9Xe/A74gQSZ/uvqnhFT%2BhrOtT9rRlDumvvTX6nbluKeAzKhil/wAu5wn/AOAThL/20j/4Ji6//wAJL/wT3%2BDuo%2BZu8vwDp9rn/rhEIMfh5eK91r5W/wCCKGrT6n/wTO%2BG0F7xcaeuq2NwhPKNDqt2gH/fIWvqmuLJ6ntcpw8%2B8If%2Bkr/I%2Bm8RsKsD4hZxh1tHFYhf%2BVqj/wDbgooor0T4wKKKKACiiigAooooAKKKKACiiigAooooAKKKKACiiigAooooAKKKKACiiigAooooAKKKKACiiigAooooAKKKKACvGfHH/KQv4X/9kZ8ef%2BnbwhXs1eM%2BOP8AlIX8L/8AsjPjz/07eEKAPZqKKKACvAv20pNT8S/Ef4K/BS%2B8a%2BIPD/hnxv48vrTxHd%2BGPEl3o95e/Z9C1K8t7Fb2zliuIA8tuJj5UiM4tNhJRnVvfa5/4nfCb4V/GzwjN8P/AIy/DTw/4u0G4kSS40TxPo0F/aSujbkZoZ0ZGKsAQSOCMigD5Y8Mal%2B0h8fP%2BCc/wq8R%2BGtc8T%2BJ7p9atH8Vnw34qXRtd8X%2BHbee4hWS01Dz7YRXFxGlpds6z24lTzVWRBKK8J0b4/ftQ/Evwd8P/AuueHfEt74csdM%2BK%2Bt3Vu/xxvfDl7fWHh/xJb2GnJPr2n%2BZcXcsNjcMuBL5V3IFnluGRPMf9CvFH7OH7PPjjwreeBPGnwG8Gaxoeox2keoaNqnhe0uLS6S0AW1WSGSMo4hCqIwQfLAG3GKTxl%2Bzf%2Bzx8RvBmkfDj4hfAXwXr3h7w%2B0TaDoOs%2BFrS6stNMaeXGbeCWNkhKISq7ANqnAwKAE8K/FSHxH%2Bz/ovxm%2BH3gXxF4gg1XwvZarpGgRSW0eqXUU8EcscRN5cRQrNtcbvNmUZBy2evAf8E6dWv9e/Zuvtb1XwxfaJc3nxb%2BIc1xo%2BpyQPc2Lt4z1omGVreWWEuhO0mOR0yDtZhgn3NESNBHGgVVGFUDAA9K8a/YP/AOSIa5/2Wb4j/wDqa63QB7NRRRQAUUUUAFFFFABRRXjf7TP7f/7Iv7Iun3Evxv8AjXpFhqMMRePw7ZzfatTmOMqq20W6QbjwGcKgJ5YDJrGviMPhaTqVpqMV1bSX4mNfEYfC0%2BetNRj3k0l97aPY2ZUUu7AADJJPAFfBf7bf/Bdb4LfArX5/hV%2Bzda6Z468TxSGC81me9ddF06XIXbvhDS30gLDMVuDgH7%2BQQPPfiFc/8FOP%2BCwWoSeE/A/hjUfgP8CbrAm1HxBC8Wp69bN0ZolKyTKy8iJSkBDENLLhTX1b%2Bxd/wS8/ZP8A2IdOhvvh54LXV/FAjAuvGXiBEnv2PcRHAW2TP8MQXIxuLEZr5yrjc3ziXJly9lS61ZrV/wDXuD1t/ekl5Lqe3gc1yXL4qpRoLG1untOeGFp/4lH2dbFSX8kHQoJ6TrVdYnwXpHwO/wCCnH/BSDVrfxb8XfAOparo7yrNZD4nzzeHvCtjzkNBo1qwu74j70c8rAOCBIhBr6s8F/8ABJDxF4k8M2nhb9qL9sHxdr%2BhW0eyLwB8PbWHwp4cjj/54m1sgDKo6bsox5J5Jr7SorbCcM4Gi3OvKVWb3cm9fVJq68m2vI48%2BzLPOLIQp53i5VqUPgoRtRwtO/8Az7w1D2dJecpe1nL7VSWt/Kvgb%2Bw9%2ByL%2BzZHCfgn%2Bz14X0O5gAEepx6as19x63U2%2BZvxc16rRRXvUaFDDw5KUVFdkkl%2BCRwYfDYfC01ToQUIrpFJL7kkFFFFamwUUUUAFFFFABRRRQAUUUUAFFFFABRRRQAUUUUAFFFFABRRRQAUUUUAFeM/sv/8AJb/2jv8Ass1j/wCoV4Xr2avGf2X/APkt/wC0d/2Wax/9QrwvQB7NRRRQAUUUUAFFFFABRRRQAUUUUAFFFFABRRRQAUUUUAFFFFABRRRQBx37QnwZ0P8AaJ%2BBviz4GeJNUurCz8V6Bc6bJqFjt8%2BzaWMqlxHuBXzI2KyLuBG5BkEZFeaeDP2QvicNO%2BIdx8Xvj1p%2Bs658VLB9P8X6z4Z8JTaObeyTTfsVpHpytf3BtHiLz3DSSPOXluG2iJQir75RQB4b%2Byr%2ByV41%2BBfjbVfiR8TPivoviXWLzwToPhKyTwz4LOg2dvpmktevbmSA3d0Zbhmvpd0gdI1VUWOKMbt%2BVf8Awj%2BFHgb/AIKbeC/Hvgn4Y%2BHtH13xP8HvHEviXWtK0WC3u9WePVvCXltczRoHnK73wXLEbjjqa%2Bh68Z8cf8pC/hf/ANkZ8ef%2BnbwhQB5j/wAEbv8AiWfs1eLvAnT/AIRb4x%2BJ9K2f3Nl55mP/ACL%2BtfWlfJf/AAS7/wCJH45/aa8CHj7H%2B0frmoIn91LyK3kUD2%2BU19aV5OR6ZTSj2TX/AIDKa/RH6B4p%2B94gY%2Br/AM/JU6n/AINoYap%2Bc5BRRRXrH5%2BFFFFABRRRQAUUUUAFFFFABRRRQAUUUUAFFFFABRRRQAUUUUAFFFFABRRRQAUUUUAFFFFABRRRQAUUUUAFFFFABXjPjj/lIX8L/wDsjPjz/wBO3hCvZq8Z8cf8pC/hf/2Rnx5/6dvCFAHs1FFFABRRRQAUUUUAFeM/sH/8kQ1z/ss3xH/9TXW69mrxn9g//kiGuf8AZZviP/6mut0AezUUUUAFFFFABXn/AO0f%2B1H8Cv2TPAD/ABI%2BPPj%2B00TTy5js4nzJc382MiG3hTLzOfRQcDkkAEjhv2xf27PCP7Mc%2BnfDDwX4XuvHfxV8TjZ4P%2BHOhsGurpjnE9wwyLa2XBLSv2VsZCsV%2BIrHwh%2B0T8Y/2p59F0bxPo3xC/aMjhH/AAlPji4t/tHhL4K2Tk4s9PhOUn1EcgMdxDqepEsleBmmdLDS9hhlz1L27pN7KytzSa1UE1Ze9NwirvbJstzfivNZ5bk6hzU489etUbjh8NTVr1K0111SjTjepOTjFRvJJt/a5/b3/bc/at8TWXwC%2BCHgvX/h8nimP/iQ%2BBtJlVfGOtWjD/j7v5eU0Ky2ncSx81hjG%2BJy6e7f8E8P%2BCLPwh/Zav7b41fHW207xh8SHl%2B0wkxvLpuhSlt%2BLZZiXmlVj/x8S5fIBUIclvoD9kP9ij4T/sgeG7xPC0l5rvivXpftHjDx3r0nn6prtyTuZ5ZWyVTcSVjB2rnJ3MWZvYq5sBkDqYhY3Mn7Sr0T1jD0Xw39FZdL/E/osZX4cyKi8FkUXWqPSpja0I%2B3qvqqMXzLB4fflp0rVqi96vXbfs4lFFFfUHy4UUUUAFFFFABRRRQAUUUUAFFFFABRRRQAUUUUAFFFFABRRRQAUUUUAFFFFABRRRQAUUUUAFeM/sv/APJb/wBo7/ss1j/6hXhevZq8Z/Zf/wCS3/tHf9lmsf8A1CvC9AHs1FFFABRRRQAUUUUAFFFFABRRRQAUUUUAFFFFABRRRQAUUUUAFFFFABRXO/Fz4peDfgf8LfEXxj%2BId%2B9roXhbRbnVNWnihaWRbeCJpH2IuWkchSFRQWZiAASRXK/Bb9qDwv8AFzTPFMniHwP4g8A6t4IuUj8V%2BHfG/wBijutOjktUu4rhns7m4t3heF9wdJmAKSI2143VQD0yvGfHH/KQv4X/APZGfHn/AKdvCFdH%2Bzz%2B0DN%2B0R4dfxpYfBTxn4X0K5tLW88Oav4sisIl16zuFd47iCG3u5p4V2KjGO7it5QJkBjzvC8544/5SF/C/wD7Iz48/wDTt4QoA8x/Yf8A%2BJF/wUF/a38DH5RF4l8L6qi%2Bv2zSnckfilfWlfJfwP8A%2BKd/4LCfHPR/u/8ACR/DXwzquP732ffa5/DOK%2BtK8nJtMLOH8tSqv/Kkn/7cfoHiT%2B8z7D4j/n7g8DP5/VKUH%2BNJhRRRXrH5%2BFFFFABRRRQAUUUUAFFFFABRRRQAUUUUAFFFFABRRRQAUUUUAFFFFABRRRQAUUUUAFFFFABRRRQAUUUUAFFFFABXjPjj/lIX8L/%2ByM%2BPP/Tt4Qr2avGfHH/KQv4X/wDZGfHn/p28IUAezUUUUAFeBftpSan4l%2BI/wV%2BCl9418QeH/DPjfx5fWniO78MeJLvR7y9%2Bz6FqV5b2K3tnLFcQB5bcTHypEZxabCSjOre%2B1z/xO%2BE3wr%2BNnhGb4f8Axl%2BGnh/xdoNxIklxonifRoL%2B0ldG3IzQzoyMVYAgkcEZFAHyx4Y1L9pD4%2Bf8E5/hV4j8Na54n8T3T61aP4rPhvxUuja74v8ADtvPcQrJaah59sIri4jS0u2dZ7cSp5qrIglFfNfx%2B/bR/aOg/wCCdU%2BhTTfFzwwLG88b3kfj7wzpWta5diw0jxBeWei6XLrOmQzrHKyxwtPeyz7ZobFx5kwvPNr9KPFH7OH7PPjjwreeBPGnwG8Gaxoeox2keoaNqnhe0uLS6S0AW1WSGSMo4hCqIwQfLAG3GK2Lj4afDi78Af8ACp7r4f6JL4WGnLp48NSaVC2n/ZFUKtv9nK%2BX5QUBQm3aAAMUAN1bxtdQ/Dw%2BP/CngTXdfkk05Lux8P2ltFZajdB1DLF5eoyWywS4blJ3iKkENtYYryj/AIJ06tf69%2Bzdfa3qvhi%2B0S5vPi38Q5rjR9Tkge5sXbxnrRMMrW8ssJdCdpMcjpkHazDBPuleM/sH/wDJENc/7LN8R/8A1NdboA9mooooAK8N/bi/bLsv2VfB2m6B4L8Nt4q%2BJnjO6OnfDvwRanMupXh482QAgpbRZDSOSBjAyM5HQfte/tZfDn9jr4Q3HxP8dpNfXc862Xhrw3YDde65qMnENnboASzM3UgHaoJwcYP5/eGtG/aa%2BKn7Q%2Bq%2BF9F1y3u/2lfHWmoPiD4wtx5um/BTwxJyml2ZBIGoOjEHa27cxw2S8x%2BfznNXhv8AZqGtSVttXG%2B1ls5y15U9FZzlaEXfbK8nzXizOP7HyycabUXUr15/wsLQXxVqjs9elOGspzcVGMm4qWn8KfAnxo1r4l%2BJ/wBnf9nXxzFr3xv8TzCb9pD9o1ovNt/CUcnXRdLbj98ir5aom3aY/wCAp/o339%2BzF%2BzB8Iv2R/hRZ/CL4O6CbWxgYzX19cMHu9TumA8y6uZcAySuRyegACqFVQoX9mL9mb4Vfsk/CDTvgz8ItGNvp9kDJd3k5D3Oo3TY826uJMDzJXIyT0AAVQFVVHoNa5TlMcFFVKutS3qop6tJvVtvWc3705auyUYr6rOc6yrCZVDhzhyDpZdSlzNy0q4mqr3xGId23JtydOndwoxlZc1SVSoyiiivbPjwooooAKKKKACiiigAooooAKKKKACiiigAooooAKKKKACiiigAooooAKKKKACiiigAooooAKKKKACvGf2X/wDkt/7R3/ZZrH/1CvC9ezV4z%2By//wAlv/aO/wCyzWP/AKhXhegD2aiiigAooooAKKKKACiiigAooooAKKKKACiiigAooooAKKKKACiiigDz/wDar%2BCt1%2B0Z%2Bzd42%2BB2na9HpV54n8OXVjp2pzQmWO0umQmCZ0BBdFlCMyAgsoIyM5rzPwB%2Bzf8AHPxbefFPX/2h9I8I6ddfGHTE0XXLLwf4pu7yPRNMt9Ma1g8iW4sIDdzSTXF3I5ZIFiV4lHmlCzfRlFAHy5/wT4/Yr%2BI37K2v6nqXinw/4H8N2MvgjQ9AbR/AOp3VzBr1/Ytded4hvftFtB5d7crNEjKBPJiIeZcz4TZuX/wx8N%2BDv%2BCm3gvxnpOpeIZrzxD8HvHEl/Dqvi7Ub60iKat4SwLa1uZ5ILIHccrbpGGwNwO1cfQ9eM%2BOP%2BUhfwv/AOyM%2BPP/AE7eEKAPMZv%2BKd/4LgQyfdh8Rfs0NHj%2B9cW%2Bubs/hGa%2BtK%2BS/j7/AMU7/wAFe/2f9Y%2B7/wAJH4B8VaVn%2B99nijusfhnNfWleTlfu1MTDtVl/5NGEj9A47/e4PJMR/PgKK/8ABVXFUv0S%2BQUUUV6x%2BfhRRRQAUUUUAFFFFABRRRQAUUUUAFFFFABRRRQAUUUUAFFFFABRRRQAUUUUAFFFFABRRRQAUUUUAFFFFABRRRQAV4z44/5SF/C//sjPjz/07eEK9mrxnxx/ykL%2BF/8A2Rnx5/6dvCFAHs1FFFABRRRQAUUUUAFeM/sH/wDJENc/7LN8R/8A1Ndbr2avGf2D/wDkiGuf9lm%2BI/8A6mut0AezVxvx%2B%2BPXww/Zl%2BEusfGv4weIk0zQtEtjLcSnBkmc8JDEuRvldsKqjqT2GSOyr4F/aF%2BLnw8/aW/ay1rx18VNXjj%2BAf7KjNqXiWeRQ8Gv%2BL9uIrZVPExts7Qg5Mz7CCJRXm5njXgsP7lueTtG%2By0u5P8AuwinKXkkuqOPFzxs50sHgKftMTXnGnSgk25Tk0lotWo3u0t9FvI8x%2BJ3i34/%2BMPFvh/9qn4l%2BEt/xx%2BJ8smi/sxfCa6%2BePwNp0gBm127RhgXKxESs7L8h25GF2wfd/7Gv7JHgT9jr4O2/wAOvDEr6jrF7Ib7xf4ovCWu9d1OQZmupnYljlidqknauBknJPkv/BPf4PePvip4y1n/AIKQftK6I9r4y8f2a2/gjw/c/N/winhkHdb26g/dmmBEsjYBO4cKXkWvrOvNyPL0m8bUu5Svy83xWe832lU0dvswUIKyTT/Rs9p4PgzJlwfltTnlGXtMbWTT%2BsYpaOPMtJUcNrTppPkdRVakVZU2FFFFfSHwoUUUUAFFFFABRRRQAUUUUAFFFFABRRRQAUUUUAFFFFABRRRQAUUUUAFFFFABRRRQAUUUUAFFFFABRRRQAV4z%2By//AMlv/aO/7LNY/wDqFeF69mrxn9l//kt/7R3/AGWax/8AUK8L0AezUUUUAFFFFABRRRQAUUUUAFFFFABRRRQAUUUUAFFFFABRRRQAUUUUAFFR3t7Z6dZy6hqF3FBbwRNJPPNIFSNFGWZmPAAAJJPSsD4W/GH4SfHHwqvjv4KfFLw54w0Nrh4F1nwtrdvqFoZUxvjE0Dum5cjK5yM80AdHXiXj/UrG3/4KM/CjTZ7pEnufgv4/NvGxwZNureDy2PUgEHHpk9jXqvhz4ifD/wAY63rfhnwj450fVdS8NXyWXiPT9N1OKefSrl4kmSC5jRi0EjRSRyBHAYo6sBhga%2BGP%2BCtnxM8S/s%2BftwfsxftPaSJDo/gPTfFs3jQoThNFvb/wzp1y5A%2B9ta6iIB/i2ntXNjMTHB4aVeS0jZv0uk38k7%2BiZx4/FxwGDniJK8Y2b9LpN/JNt%2BSZ6X%2B3ZjQv28P2SfHX3fs/jHxDpW//AK/dLWPH47K%2BtK%2BSf%2BCpE0Oma7%2BzT8Q7WVXjsv2kvDts8yMCBBdJcIzZHUYC/nX1tXFgfdzHFx/vQf301/8AIn6ZxT%2B%2B4M4er9qWKp/%2BC8ZKX/ub8Qooor1j8/CiiigAooooAKKKKACiiigAooooAKKKKACiiigAooooAKKKKACiiigAooooAKKKKACiiigAooooAKKKKACiiigArxnxx/ykL%2BF//ZGfHn/p28IV7NXjPjj/AJSF/C//ALIz48/9O3hCgD2aiiigArwL9tKTU/EvxH%2BCvwUvvGviDw/4Z8b%2BPL608R3fhjxJd6PeXv2fQtSvLexW9s5YriAPLbiY%2BVIjOLTYSUZ1b32uf%2BJ3wm%2BFfxs8IzfD/wCMvw08P%2BLtBuJEkuNE8T6NBf2kro25GaGdGRirAEEjgjIoA%2BWPDGpftIfHz/gnP8KvEfhrXPE/ie6fWrR/FZ8N%2BKl0bXfF/h23nuIVktNQ8%2B2EVxcRpaXbOs9uJU81VkQSivM7fxv44%2BLX7DWkLe%2BMviVa/F/VfFvjbwp8CdG0L4q6hFdXD22tXttp9/qM1pceVqUFhbW9u9zd3X2qB44Xb/SHuUE33B4o/Zw/Z58ceFbzwJ40%2BA3gzWND1GO0j1DRtU8L2lxaXSWgC2qyQyRlHEIVRGCD5YA24xWX49/Y7/ZG%2BKtnoWnfFD9ln4ceJLfwvp7WHhqDX/A9heJpNodmbe1WaFhBEfKjyibV/dpx8owAdZruseJfB/gKTWIvC%2Bo%2BLNWsbFS%2Bl6EbWC41GYABhF9rnhgQk5IEkqKBxuryb/gnTq1/r37N19req%2BGL7RLm8%2BLfxDmuNH1OSB7mxdvGetEwytbyywl0J2kxyOmQdrMME%2B32VlZ6bZxadp1pFb29vEscEEMYRI0UYVVUcAAAAAcACvHv2D/%2BSIa5/wBlm%2BI//qa63QBj/wDBRb9p/wASfs6fA%2BLQfhLa/bviX8QNSj8N/DfSo8F5NRuPl%2B0EHokCkyFj8oYIGwGzXzB4U/Za8L%2BIvjV8Mv8Agl74bmGseDfhDaxePPjzqjguuv6/P89razk8v5kjNMY33Zg2rnMQrpPiX8Z/A2i/8FBPjf8AtbfFxzfeHv2Zfhxp2m%2BGLSWQCNdX1OJppPJzx9okytru7eYoPQY9q/4Ji/AXxf8ACv4CXHxY%2BMcZf4j/ABY1aTxb44mkQq8U1z80Fng8osMJVfL6IzSAcV8fNf2xmvK9YptW7U4Ss/nVqq3%2BCm1s2fVeHyeU4PMOOKuk6bngsD5VpJqvXXnRpubUl8M50VdNH0eAFAVQAAOAKKKK%2BwPlQooooAKKKKACiiigAooooAKKKKACiiigAooooAKKKKACiiigAooooAKKKKACiiigAooooAKKKKACiiigAooooAK8Z/Zf/wCS3/tHf9lmsf8A1CvC9ezV4z%2By/wD8lv8A2jv%2ByzWP/qFeF6APZqKKKACiiigAooooAKKKKACiiigAooooAKKKKACiiigAooooAKKKKAPIv2%2B/h940%2BK37FHxT%2BHHw80aXU9Z1nwNqNrZaRA4V9TLQNus1LEKDOu6EbiF/eckDJrzH4G6/8QfEfjz45/Ff4H/DnWfDkvj23sovhpbfELwPq%2BjWl3rNhoixve30Mlqs9nbGRrS13yojyrYN5IkVYy31XRQB8df8Evfgp%2B0T8C/ir8aPDPxo%2BD%2BkaFaXuq6JdxeIdN8W3mrHxDqLaXCb69M1xpVis7SzmSaWRBhZ5ZYwgCBje/aP%2BBXjT48/tkW3wc%2BMXjLw7qHhTxj8AfiDp%2BgWWl%2BFZ7S80pX1LwmpkuLiS9mS7kVzG6MkNvtMfIbI2/W9eM%2BOP%2BUhfwv/AOyM%2BPP/AE7eEKipThVpuE1dNNNeTVn%2BZnVpU61KVOavGSaa7pppr7mz5CiuPjJ%2B0/8A8ElNL07S9H/tL4o/s7eObaLX9BaRjNdXvh64w0KsAWMr2hRwcEu%2BVGSa%2B7/2ePjz8P8A9pz4L%2BHvjp8MNR%2B0aN4i09biAMR5kD8rJBIBwJI5A0bDsyHGRzXzl4Q/4xW/4K2674Lf/R/C/wC0V4UGs6Up4jXxHpa7bqNB0Bktm85z1ZmUelZfhz/jWl%2B3A3gec/Zfgn8fNaabQXPy2/hfxaw%2Be29I4bsAFB0DgKAqxsT8rgatTAVFUqO6TVGo%2BzhpSn6SjKKl5tPufacDN8X8Bz4anrjsulWqUO9anaMq9K3Wp7OFPE0ray5K9PV8p9q0UUV9afHhRRRQAUUUUAFFFFABRRRQAUUUUAFFFFABRRRQAUUUUAFFFFABRRRQAUUUUAFFFFABRRRQAUUUUAFFFFABRRRQAV4z44/5SF/C/wD7Iz48/wDTt4Qr2avGfHH/ACkL%2BF//AGRnx5/6dvCFAHs1FFFABRRRQAUUUUAFeM/sH/8AJENc/wCyzfEf/wBTXW69mr5O8OfFP/hSP/BN34yfFeO58qfQ/GXxYubF84/0keLteEAz2zKUH41nWqxoUZVZbRTb9Em/0McRWhhsPOtPaKbfok2/yPjX9kKwu/2/P2rdS8AXEfn%2BDNa%2BLWsfFbxzMxBTUNPtbr7BoumH%2B%2Bglimd1PDIwPVK/Xuvzd/4N9/hYnhyP4o%2BNGtiv2WLw74aRGH/HtdWun%2BffxD63N0SfcV%2BkVfN8JUZLKliKnx1G2/RNpL01k/Vs%2Bz4kp1MpyrKMg2jhcJQlJf8AURiqccXiJPvJzxEIX6RpQjsgooor6g%2BSCiiigAooooAKKKKACiiigAooooAKKKKACiiigAooooAKKKKACiiigAooooAKKKKACiiigAooooAKKKKACiiigArxn9l//kt/7R3/AGWax/8AUK8L17NXjP7L/wDyW/8AaO/7LNY/%2BoV4XoA9mooooAKKKKACiiigAooooAKKKKACiiigAooooAKKKKACiiigAooooAKKKKACvGfHH/KQv4X/APZGfHn/AKdvCFezV4z44/5SF/C//sjPjz/07eEKAMn/AIKAfswfEH9oXwL4Y8Y/AzWdO034j/DbxZb%2BJfBV1qob7PcTRAiSymZeVimUhWx1KqDgZI850z4yfBj/AIKg/B/xb%2BxH%2B0V4Pu/h38Ubay2634J1kj7Zpt3Hh4dT0%2BQ4F1CrhXV0PKnDfI4Z/sKvGP2vv2HvhT%2B13o9jqOtXV74b8a%2BH387wd8QvD0nk6pos4OVKSKQZIt33omODkkFWww8bHYCq5TrUEpc6tOEvhmkraP7MknZPZ6KWykuGlPOcizmGdZLUcMRCUJWvbmlTd4yjL7FSNrJu8ZL3ZqzueQfAf9u7x7%2Bzbq%2Bifsr/APBS7RG8K%2BJEiSx8OfFNpzL4f8XBAFWRrogC2uWABdJdoJyx2blU/YkUsc8azQyK6OoZHU5DA9CD3r4W%2BI/xf/af%2BDXw%2Buvg7/wVA/ZMs/jB8NpYBDe/Er4d6f8AbAYlHE9/prBZIHXh2ni2qhHyZIBrA/Z3n%2BMvwx8MN4v/AOCUn7R3hr45/CuDEv8Awp/xlrbQ6tocZ5%2Bz2d3JiSAdNsV0qqo7OxLHzsJmtXCT9hPmmktmrVorzjp7VL%2Bem2%2B6e5%2BkUcx4H8RazeGnDK8zessPWbp4eq3q5UZy5vq8m2/3cnUw%2Bv7utSVoR/Qqivmv4Jf8FSP2d/iL4rHwl%2BMVvqvwi%2BIEeFn8G/Em2/s%2BSRicA29w%2BIbhGP3CGDOOQlfSaOkiCSNwysMqwOQR619DhcZhcbDnoTUl1tun2a0afk0mfP55w5nvDWJWHzTDypSavHmXuzj0lCacoVIvpKE5xffoLRRRXSeKFFFFABRRRQAUUUUAFFFFABRRRQAUUUUAFFFFABRRRQAUUUUAFFFFABRRRQAUUUUAFFFFABRRRQAV4z44/wCUhfwv/wCyM%2BPP/Tt4Qr2avGfHH/KQv4X/APZGfHn/AKdvCFAHs1FFFABXgX7aUmp%2BJfiP8FfgpfeNfEHh/wAM%2BN/Hl9aeI7vwx4ku9HvL37PoWpXlvYre2csVxAHltxMfKkRnFpsJKM6t77XP/E74TfCv42eEZvh/8Zfhp4f8XaDcSJJcaJ4n0aC/tJXRtyM0M6MjFWAIJHBGRQB8seGNS/aQ%2BPn/AATn%2BFXiPw1rnifxPdPrVo/is%2BG/FS6Nrvi/w7bz3EKyWmoefbCK4uI0tLtnWe3EqeaqyIJRXiHhf4v/ABa%2BL/wtttE%2BL/xm8ceBNI8MfDz4t674Y1TT/iHcw3s7aH4kSx025vL%2B3m/4mf2GyZA4lknt7ky%2BdL9pBRz%2Bgfij9nD9nnxx4VvPAnjT4DeDNY0PUY7SPUNG1TwvaXFpdJaALarJDJGUcQhVEYIPlgDbjFJ4t/Zw/Z48f%2BGdB8F%2BO/gL4L1vRvC0sMvhjSdX8LWlzbaQ8S7IntYpIyluyKAqmMKVAwMCgCHwL8Q/H13%2Bzj4e%2BJ%2BvfDfU9W8TXfhKw1DUfC%2BjG2gupbyS3jeWCP7ZPBCjB2YYklQDbgmvgz9o7xdf%2BLv%2BCXNv8J9Q0a%2B8O33xf/aj8SeHLjS9Rmga605ZvH2s3U0crW0ssWUW3Ku0cjx9cOwIJ/S2vx//AGyPiQYdL0LwnBcYj8E%2BIPjr4zv1z9y4bxRren6ZJ7bbyX8c4FeJxHXVDJqt/tJR/wDAmk//ACVSObEZbWzydHKKPx4urRw69a9alSf3RlN%2BiZ9l/wDBFfSDP%2BxW3xblsvs83xI8ea/4omi24I869eBcj/ct0I9sV9a15V%2Bwz8OP%2BFR/sbfC/wCHUkHlT6Z4F0xL1MYxctbo8x/GVnP416rXXlNGWHyuhTluoxv6tXf4tn2/H%2BZUc345zPF0f4cq9Xk7KEZunTS8lTpQS8kgooor0D5EKKKKACiiigAooooAKKKKACiiigAooooAKKKKACiiigAooooAKKKKACiiigAooooAKKKKACiiigAooooAKKKKACvGf2X/APkt/wC0d/2Wax/9QrwvXs1eM/sv/wDJb/2jv%2ByzWP8A6hXhegD2aiiigAooooAKKKKACiiigAooooAKKKKACiiigAooooAKKKKACiiigDyL9vr4heNPhR%2BxR8U/iR8PNZk0zWdF8DajdWWrwxhn00rA268UMCpMC7phuBXMfIIyK439lawm0H4mfG/9njTfih4q1jwd4bn0f%2Bx9Y1/xjearqGlz32krLd2y6jdyyznaPIu13yMYzffLtj8tV%2Bir2ys9Ss5dO1G0iuLe4iaOeCaMOkiMMMrKeCCCQQeCDXFeFf2Xv2aPAvhOPwF4J/Z38C6PoUK3iw6LpXhGyt7RBdx%2BXdAQxxBAJo/kkwP3i8NkcUAeTfsApe614h8ffEH4b%2BMfGGq/BzVJNNtvhtP428X6hrlxqdxbi5XUdXtLnUZprj%2Bz7gvaxwK0mx/sUtxEvlXKO9y/8aeJPEP/AAU28F%2BHdW%2BEfiHQrPSfg944Sw17VbnTntNaDat4Sy9sttdyzoE2jP2iKA/ONob5seo/Bv8AZq/Zz/Z1hvrf9n34A%2BCfAkeqLCupJ4N8K2eli7EO8RCUW0aeZs8yTbuzt3tjGTXH%2BOP%2BUhfwv/7Iz48/9O3hCgD2aiiigAr56%2BO//BLz9j/47eJ2%2BI7%2BBrvwb4y3mSLxr8PdSfR9SjlPWUtD%2B7kf/bkR24619C0Vz4nCYbGU%2BSvBSXmr/NdU/NNPzOXF4LB4%2Bn7PE01NeavZ911T800/M%2BD/AIz/ALCn7d1n4Z/4Q278c/D39pXwZCSbfwz8atDFrrNopGP9G1O35Mx/56yFDgmvnRvFPx//AGG3Nx4R0f44/s9Wdscy%2BH/E9l/wnvgJAOsaXcOZrNT1LIsr4HWv17oIBGCK8LE8N0ak/aUKsoSWzb5reSldTS8ueS8j2Mkz/i/hfDPCZTmM1hm7vD14wxWGfrRrqaX%2BKE4TXSdz86Pg1/wXP11TBp/xo%2BDuh%2BLoGwD4j%2BCfiSPUHkHdzo92Y76FB1LOOmeOK%2Bo/gh/wUr/Ye/aClTTvAP7Q%2Bgw6oz%2BW2g%2BIJzpl%2BsoODH5F0I2dgeDsDD3Na3xh/YD/AGLPj35svxW/Zl8H6ncz583UY9IS2vGz/wBPMGyX/wAfr5r%2BLX/Bvf8AsfePFWTwR8QPHfhgwRlLGxbWI9TsbZT2WK9jkcY9pRWKp8XYF%2B5KnXj2k3GX32/O560%2BI8kzBf8ACnkqpT/5%2BYGu4J%2BbwuMVWmvSniYrolsfeKsrqHRgQRkEHrS1%2BYugf8Ebv%2BCj/wCzCVT9jL/gpA0VnCcwaRr0d3Z2nsDADdwMR0z5Y%2Bgrt/D/AMXP%2BC/3wL22/wAR/wBmzwB8XNOh/wCPi/0PV7exvJAO64kiHPtbE/SumnnuJp6YvB1YecUqkfvg7/8Akp4mLrcPQvLD4iol2q4epB/%2BBUpYmk/k0vQ/QOiviG2/4LI%2BKfh/pst7%2B1N/wTf%2BOPgVIXCy6hp/h46lp6epNy4txj/dDV1vgr/gt7/wTO8ZrDC37RQ0e6lHz2eu%2BHdQtmhPo8hgMQP0ciuuGf5NN8rrxi%2B0rwf3TUTxamcZTS%2BOvBa2u3yq/a8owPrGivKfB/7dn7Ffj4KPCP7WXw6vZH%2B7bp4xs1m/GNpA4/EV6RoXifw14otftvhnxDY6jD/z2sbtJl/NCRXo0sRh66vTmpejT/Js6qOKwuJV6NSMvSUX%2BTZeooorY3CiiigAooooAKKKKACiiigAooooAKKKKACiiigAooooAKKKKACiiigArxnxx/ykL%2BF//ZGfHn/p28IV7NXjPjj/AJSF/C//ALIz48/9O3hCgD2aiiigAooooAKKKKACvwy8Y2mofGj4vfHLwhOjj%2B1Pj6fhJpDg8yJqPj7WdbuFXHQK1um7/fHrX7m1%2BSn7MHwrnvv24vCXhC8tWZfEX7Xfxi8f6izryttpmq3djYHHdftEVxg/7Zr5riejLE4SlSW0ppP5%2B6v/AEpn1vh7hpT8QMtxr%2BDBOti5f9yuFxFWH/lV0reaS6n60xRRQRLBBGqIihURRgKB0Ap1FFfSnyTbbCiiigAooooAKKKKACiiigAooooAKKKKACiiigAooooAKKKKACiiigAooooAKKKKACiiigAooooAKKKKACiiigAooooAK8Z/Zf8A%2BS3/ALR3/ZZrH/1CvC9ezV4z%2By//AMlv/aO/7LNY/wDqFeF6APZqKKKACiiigAooooAKKKKACiiigAooooAKKKKACiiigAooooAKKKKACiiigArxnxx/ykL%2BF/8A2Rnx5/6dvCFezV4z44/5SF/C/wD7Iz48/wDTt4QoA9mooooAKKKKACiiigAooooAKKKKACuP%2BJX7PfwF%2BMq7fi78FPCfij5dobxB4dtrxlHsZUYj8K7CioqU6dWPLOKa7NJr7mmaUq1ahLmpScX3Taf3po%2BTPiX/AMEQP%2BCa3xKaS5PwAGgXUmf9J8Na1dWm36ReYYR/37rwnxx/wbT/AACkuDf/AAX/AGlvG3hm4BJhk1S1tr8Rn2MQtmx9Wz71%2BlNFeNiOGcgxTvPDRv3S5X/5K0d1PNa6f72lRqrtVw%2BGrL/yph2//Jr%2BZ%2BU%2Bsf8ABFf/AIKVfDeIR/Af9vUyRwn5WHi/XdGndR2URSXEan68VRuPgN/wXW%2BE4VLTxH8Utchi/wBZqOmfFrSNVxjuLe9t0kf6ZzX6zUVwvhHL4O9CrVp%2BlSTX3NnfDNOG6iSxeQ4OfnCOIw0vvw2MgvT92kux%2BSv/AA1R/wAFYPhn%2B6%2BIXxM%2BOenon3pNZ/Zd0y%2Bso8dmu7O53N9dtW9G/wCCtn7TWmXo0m9/bh%2BCEV%2BP%2BXH4i/CrxLpD/wDAmt4Si/8AfVfq/VTWdA0LxHZnTvEOi2l/bt96C9tllQ/8BYEUv9X8xpfwsbP/ALe5vzU3%2BRpyeGGI/iZZi6D70MyrNfKOKoVl8ub5n56%2BEP8Agpp%2B2lr2xNM%2BK37GniWRvu2%2Bk/E670%2BaT6R3rhv0r07w7%2B2N/wAFP9Vg%2B1aL/wAE/vAfi%2BIDJk8K/HLT1Vh6gyq2Pxr3Lxf%2Bwt%2Bxb493P4v/AGT/AIdXsr/euJPB1mJv%2B/ixhx%2BdeZeI/wDgjD/wTV8R3H23/hmi1065BzHcaJr%2Bo2TRn1UQ3Cr%2BlH9n8R0/hr83/b7X/pVKQf2B4Y1/4eaZph/8UMFiEvmvYyfzVzM/4bn/AG/9K48V/wDBI3xVCR97%2ByPiZpV/%2BWxVzR/w8s%2BOOl/8jR/wSz%2BO8OPvf2TpNtfflskGaX/hz38FdG/5Jl%2B0v8efBYH%2BrXwx8U7iIJ9BKklH/Dun9pvw3/yTb/gqr8YLXb/q/wDhKILPWcfXzVTdRy8SU93J%2BjoS/OMGH%2BpPDFb/AHbiyUfKvgKkfvdN1I/chB/wVn02y48R/wDBPT9qLTMfekuPhIWj/BluDn8qP%2BHx/wCzvaf8h/4IfGvScfe/tH4XXa4%2Bu0tS/wDDM/8AwVl8M/8AIv8A/BTDw34iVfuReJPg9ZW3HoWtpCT9etH9lf8ABb3w3/x5eKv2bPEkS9f7Rsdbs5nHt5WUB%2BvFH1nO4fF7T/wTTl/6RWD/AIhzjan%2B68U4Cf8AjU6X/pyhET/h9l%2BwXa8a74m8YaXj7w1D4e6ou367YGqS1/4Lh/8ABL%2B4k8mX9pk28g6x3Xg3WYyPxNnj9aZ/wuf/AILF%2BHeNY/Ys%2BFviPb1Ph/4jPZ7vp9qQ4/Go7n9sr/goZYJ5XxA/4JC6tJGvV9F%2BK2k6iG9wgQEfSj%2B0sxj8VRr1w1X/ANtm0H/ELuPpf7vmWX1f8OIw1/uliaT/AAN2y/4LJf8ABM6/x5H7WGjLn/nvpl9F/wChwCta0/4Kv/8ABOW9x5P7XnhBc/8APa7eP/0JBXm17%2B3XrVuD/wALG/4I/fGfj/Wf2T4IstV/La65rKu/2%2BP2L%2Bf%2BE%2B/4Js/FbRP%2Ben9v/AKMbfrtL0f2zXW%2BIpL1p1o/mv1D/iFHjC/4WHo1f8EqU/8A0jHSf/kp7jaf8FMv%2BCfV7gw/tj/D0Z/56%2BJoI/8A0JhWla/8FCf2DbsZi/bQ%2BFYz/wA9fH2np/6FMK%2BaLv8Ab5/4IrDP/Cd/BLSNGP8AGNe%2BBUw2/XbZvUlj%2B1p/wb3%2BKcH%2Bxvgw27/oIfCMQ/8Ao6wXFVHO5t2WKw3zlNfmzOp4V%2BOFGPM8nm13WHxTX3w51%2BJ9RW/7cP7Fd5/x6ftf/C6XPTy/iBprfymq9b/tdfsoXf8Ax6/tO/DyXPTy/Gtg38pa%2BZ7Hxf8A8G//AIkx5Fl%2BznHu/wCe%2Bhabaf8AocSYrXsvhl/wQl8SYGmW37NtwW/gtdY0cN%2BSyAiuiGZYyfw1cO/Scv8AM8evwd4q4T%2BNlco%2BtDGL86D/ADPo6D9pX9nK6/49vj/4Jkz08vxVZn%2BUlXIfjr8Ebn/j3%2BMfhWT/AHPENsf5PXz3Z/sZf8EcPEeDpXwv%2BDd1u6fYtStTn/viWtW0/wCCXf8AwS58Q4Ol/s0eB7rd0%2Bx3DnP/AHxLXRHEZvP4VRfpOf8Akzxq%2BD4zwv8AGwsI/wCL28f/AEqkj3mH4sfCy4/1HxL8Pv8A7mswH%2BT1Zi%2BIHgOf/U%2BNtIf/AHdSiP8A7NXgM3/BHv8A4JqTff8A2TNAH%2B5d3a/ymqtL/wAEZf8AgmVN9/8AZR0kf7usagv8ritPaZ5/z7p/%2BBz/APkDk9rxH/z5o/8Agyp/8rPo%2BPxT4Ym/1XiOwb/dvEP9a8j8X31le/8ABQr4YGyvIpgvwZ8ebjFIGx/xNvCHpXCSf8EU/wDgmFJ979lWxH%2B74i1Qfyuqyvg7%2BxH%2By9%2Bxx/wUL8FH9m34VxeGf%2BEj%2BDPjP%2B2vK1S7uftP2fVvCvk/8fEsm3b58v3cZ3c5wMa0KmayqpVqcFHq1OTf3OC/M3w1XOpVkq9KmodXGpJv5J00nr5o%2Bu6KKK9A9QK8C/bSk1PxL8R/gr8FL7xr4g8P%2BGfG/jy%2BtPEd34Y8SXej3l79n0LUry3sVvbOWK4gDy24mPlSIzi02ElGdW99rn/id8JvhX8bPCM3w/8AjL8NPD/i7QbiRJLjRPE%2BjQX9pK6NuRmhnRkYqwBBI4IyKAPjfX/ix8aviF/wTa%2BC7aX8R9RvfFPjXxxpGh2V%2B/im60N/F1ml3cbDPq9ipuNPF3ZWouGurdGd2IREbzwp8R8Z/Ef9qDxr8DPD3gXwh8Vteu/EfhDwd8Wr3xJYXPxj1bRRpkuk%2BIUs7a7h1i2zP4g/s0BrSGK98qK8jbz7x7WXEZ/SfX/2fPgJ4s8LX/gbxT8EPCGpaJqtvawapo%2BoeGrWa1vIrUAW0csTxlJFiCqI1YEIFG3GKzvEf7Jv7LHjDwjoHw/8Xfs0fD/VNB8KHPhfRNR8G2M9no54H%2BiwvEUt%2Bg/1YXoKALnhb4h6hefAHRvih4e8O694wuLvwxZ6ha6faQWdnqOqGWCNx8lzPDbwysG3FHlRVORngV8E/wDBLHVtQ%2BNn/BRD4jePNV8MX2kH4eWHjDSLjRNTkgefTL7U/H2t35SVreWWEyiIFGMcjocfKzDBP6VABQFUYA6AV8Lf8EW/AbWfjn9rD4t3Fvsk179qXxfpaMw5eKw1a82n6brqQfUGvMzCnKrXw0Ft7Tmf/bsZNfi0fb8I4ull%2BVZ1iJP33hfZQ9a9ehTl/wCU4z/pn3TRRRXpnxAUUUUAFFFFABRRRQAUUUUAFFFFABRRRQAUUUUAFFFFABRRRQAUUUUAFFFFABRRRQAUUUUAFFFFABRRRQAUUUUAFFFFABXjP7L/APyW/wDaO/7LNY/%2BoV4Xr2avGf2X/wDkt/7R3/ZZrH/1CvC9AHs1FFFABRRRQAUUUUAFFFFABRRRQAUUUUAFFFFABRRRQAUUUUAFFFFAHmH7afxe8VfAP9kz4h/GPwNHanW/D/hS8utHe%2BiL28N0IyIpZVBBaJHKu65GVVhkZyPLvCnx2%2BMPwI0D9obwv8QfiBf/ABLuvg94ah8R6FrutadZWl5fRTaRLdGxuF0%2B3t4Cyz2spVkiRvKuIlbcyGR/o3xp4N8K/EXwdq3w%2B8daBa6romu6bPp%2BsaXexB4by1mjaOWGRTwyOjMpHcE1xfwr/ZO%2BB/wZsLjTvA2iazsvrya61aTWvGOqarLqssltFak3st7cyvehbeGKKNZ2kWJI1WMIBQB5p%2Bxx8QvjlbfGTWfgh8ZfjTcfEHd8KvCvjO21y70exs3s7nUp9Ut7q0jWyghQ2m6wjkg8wPMA8qvLLhSLd/8AE7w34x/4KbeC/Bmk6b4hhvPD3we8cR382q%2BEdRsbSUvq3hLBtrq5gjgvQNpy1u8gXI3Eblz6J8Av2VfgZ%2BzFa39r8GfCl5Yf2lDa29zNqXiG/wBTmFrao6WtpHLfTzPDawLJIIraMrDF5j7EXe2fM/2j9X%2BNej/t4fCef4HfD/wt4i1JvhH47W7tPFfjC50WCOD%2B1PCRLpLb6fes77to2GNRgk78gKQD6Porxn/hOP8AgoX/ANGv/Bn/AMPxq3/zL0f8Jx/wUL/6Nf8Agz/4fjVv/mXoA9morxn/AITj/goX/wBGv/Bn/wAPxq3/AMy9H/Ccf8FC/wDo1/4M/wDh%2BNW/%2BZegD2aivGf%2BE4/4KF/9Gv8AwZ/8Pxq3/wAy9H/Ccf8ABQv/AKNf%2BDP/AIfjVv8A5l6APZqK%2Bcfgj%2B0d%2B3b8ePgx4Q%2BOPhX9lD4SWul%2BM/C%2Bn67pttqHx11RZ4YLu2juI0kCeGGUOFkAYKzDIOCRzXUf8Jx/wUL/AOjX/gz/AOH41b/5l6APZqK8Z/4Tj/goX/0a/wDBn/w/Grf/ADL0f8Jx/wAFC/8Ao1/4M/8Ah%2BNW/wDmXoA9morxn/hOP%2BChf/Rr/wAGf/D8at/8y9H/AAnH/BQv/o1/4M/%2BH41b/wCZegD2aivnHx9%2B0d%2B3b8O/FfgjwhrH7KHwkmuPHniiXQtKktvjrqhSCePStQ1MvLu8MAhPJ06ZQVDHe6DGCWXqP%2BE4/wCChf8A0a/8Gf8Aw/Grf/MvQB7NRXjP/Ccf8FC/%2BjX/AIM/%2BH41b/5l6P8AhOP%2BChf/AEa/8Gf/AA/Grf8AzL0AezUV4z/wnH/BQv8A6Nf%2BDP8A4fjVv/mXo/4Tj/goX/0a/wDBn/w/Grf/ADL0AezUV4z/AMJx/wAFC/8Ao1/4M/8Ah%2BNW/wDmXrl/hF%2B0d%2B3b8ZfCl34v8OfsofCS2t7PxRrehSR3vx11RXM%2Bl6rdaZO42%2BGGGxprSRkOclGUkKcqAD6Oorxn/hOP%2BChf/Rr/AMGf/D8at/8AMvR/wnH/AAUL/wCjX/gz/wCH41b/AOZegD2aivGf%2BE4/4KF/9Gv/AAZ/8Pxq3/zL0f8ACcf8FC/%2BjX/gz/4fjVv/AJl6APZqK8Z/4Tj/AIKF/wDRr/wZ/wDD8at/8y9cv8Xf2jv27fg14UtPF/iP9lD4SXNveeKNE0KOOy%2BOuqM4n1TVbXTIHO7wwo2LNdxs5zkIrEBjhSAfR1FeM/8ACcf8FC/%2BjX/gz/4fjVv/AJl6P%2BE4/wCChf8A0a/8Gf8Aw/Grf/MvQB7NWXrHgbwV4hz/AG/4P0u%2B3fe%2B2afHLn/vpTXlv/Ccf8FC/wDo1/4M/wDh%2BNW/%2BZej/hOP%2BChf/Rr/AMGf/D8at/8AMvScYyVmrmlOrVoy5qcnF902n96aOq1f9lj9mLX8/wBu/s5eA73d977X4QspM/8AfURrmtU/4J6/sH6zk337Gvwwy3VofA9jEx/FIgai/wCE4/4KF/8ARr/wZ/8AD8at/wDMvR/wnH/BQv8A6Nf%2BDP8A4fjVv/mXrnngsFU%2BKlF%2BsY//ACJ7GH4n4mwn8DH14f4a9ZflWX5GDqf/AASi/wCCc%2BrEm6/ZE8IJnr9ltHg/9FuuK57Uv%2BCKv/BMPVc/av2VrFM/8%2B3iLVIf/Rd0ta/gH9o79u34ieK/G/hDR/2UPhJDceA/FEWharJc/HXVAk88mlafqYeLb4YJKeTqMKksFO9HGMAM3Uf8Jx/wUL/6Nf8Agz/4fjVv/mXrmlk2UT%2BLD03/ANuR/wAj2aHiT4i4b%2BFnOLj6Ymt/8sZ5j/w5G/4J4Wv/ACL/AMMvEOk/3f7O8fasuPpuuWo/4c0/st2v/IB%2BI/xb0rH3f7P%2BJl6uPpuLV6d/wnH/AAUL/wCjX/gz/wCH41b/AOZej/hOP%2BChf/Rr/wAGf/D8at/8y9Z/2Fk3TDwXorfk0df/ABFbxLfxZviJf4qnP/6XCZ5j/wAOivANt/yBP21P2ktMx937B8W5V2/TdC1U/gp%2ByjL%2BzB/wUK8Fo37SvxW%2BIaa38GfGexfif4u/tU6d5OreFc/Zj5SeX5nmjf13eVH028%2Btf8Jx/wAFC/8Ao1/4M/8Ah%2BNW/wDmXqh4H8D/ALVnjH9qzw58bvjd8OPh74Z0bwz8PfEOhww%2BFfiHfa1dXd1qV9olwjMlxpFikUaJpcoLB3YtKgC4yRtQyrL8NVVSlTtJecvyc2vwPPzTj/jHO8DPB4/FupTna6cKN3Zpr3o4eE1qltUV9ndXT91ooor0D48KKKKACiiigArwb/gnX4S0nwt8FvF9xpiMH1f48/Eq/vWbGWmbxnrCZ49FjQfRa95r5K/ZK8Wftnaf8PfFFn8MfgH8MNX0JPjT8Rf7P1HXvi7qOm3cy/8ACZ6yWMltFoFykRDbgAJnyADkE7QnFNpvoXGrUhCUIuyla672d1f0ep9a0V4z/wAJx/wUL/6Nf%2BDP/h%2BNW/8AmXo/4Tj/AIKF/wDRr/wZ/wDD8at/8y9Mg9morxn/AITj/goX/wBGv/Bn/wAPxq3/AMy9H/Ccf8FC/wDo1/4M/wDh%2BNW/%2BZegD2aivGf%2BE4/4KF/9Gv8AwZ/8Pxq3/wAy9cv8Xf2jv27fg14UtPF/iP8AZQ%2BElzb3nijRNCjjsvjrqjOJ9U1W10yBzu8MKNizXcbOc5CKxAY4UgH0dRXjP/Ccf8FC/wDo1/4M/wDh%2BNW/%2BZej/hOP%2BChf/Rr/AMGf/D8at/8AMvQB7NRXjP8AwnH/AAUL/wCjX/gz/wCH41b/AOZej/hOP%2BChf/Rr/wAGf/D8at/8y9AHs1FeM/8ACcf8FC/%2BjX/gz/4fjVv/AJl6P%2BE4/wCChf8A0a/8Gf8Aw/Grf/MvQB7NRXzj4B/aO/bt%2BInivxv4Q0f9lD4SQ3HgPxRFoWqyXPx11QJPPJpWn6mHi2%2BGCSnk6jCpLBTvRxjADN1H/Ccf8FC/%2BjX/AIM/%2BH41b/5l6APZqK8Z/wCE4/4KF/8ARr/wZ/8AD8at/wDMvR/wnH/BQv8A6Nf%2BDP8A4fjVv/mXoA9morxn/hOP%2BChf/Rr/AMGf/D8at/8AMvR/wnH/AAUL/wCjX/gz/wCH41b/AOZegD2aivnH43ftHft2/Af4MeL/AI4%2BKv2UPhJdaX4M8L6hrupW2n/HXVGnmgtLaS4kSMP4YVS5WMhQzKMkZIHNdR/wnH/BQv8A6Nf%2BDP8A4fjVv/mXoA9morxn/hOP%2BChf/Rr/AMGf/D8at/8AMvR/wnH/AAUL/wCjX/gz/wCH41b/AOZegD2aivGf%2BE4/4KF/9Gv/AAZ/8Pxq3/zL0f8ACcf8FC/%2BjX/gz/4fjVv/AJl6APZqK8Z/4Tj/AIKF/wDRr/wZ/wDD8at/8y9cvpP7R37dusfGfX/gdb/sofCRdU8O%2BF9I128uX%2BOuqeRJBqNzqVvCiEeGNxdW0ucsCoADx4LEsFAPo6ivGf8AhOP%2BChf/AEa/8Gf/AA/Grf8AzL0f8Jx/wUL/AOjX/gz/AOH41b/5l6APZqK8Z/4Tj/goX/0a/wDBn/w/Grf/ADL0f8Jx/wAFC/8Ao1/4M/8Ah%2BNW/wDmXoA9morxn/hOP%2BChf/Rr/wAGf/D8at/8y9H/AAnH/BQv/o1/4M/%2BH41b/wCZegD2aivnH4I/tHft2/Hj4MeEPjj4V/ZQ%2BElrpfjPwvp%2Bu6bbah8ddUWeGC7to7iNJAnhhlDhZAGCswyDgkc11H/Ccf8ABQv/AKNf%2BDP/AIfjVv8A5l6APZqK8Z/4Tj/goX/0a/8ABn/w/Grf/MvR/wAJx/wUL/6Nf%2BDP/h%2BNW/8AmXoA9mrxn9l//kt/7R3/AGWax/8AUK8L0f8ACcf8FC/%2BjX/gz/4fjVv/AJl6t/srfDn40%2BD9Y%2BKHjv46aB4X0nVPH3xCi1yz0rwn4ludWt7W1i0HR9MVXuLiys2aRpNOlcqItoWRBuY5wAet0UUUAFFFFABRRRQAUUUUAFFFFABRRRQAUUUUAFFFFABRRRQAUUUUAFFFFABXyvq37Wnxch/aRm1xfDvg9vh5pHxgtvhc0UmkXB183F5p9rcNqEd59o8pIPt0tvbtafZyWSHz/PBCw19UV4zefsQ/Di8%2BPzfHV/HPipbaXxXD4qufAqXVr/Yk%2BvxacunR6oym3%2B0%2BatukY8oXAtzJEkxhMo8ygD2aiiigAooooAK4X9qDx58RfhZ%2BzR8RPid8H/Ci694t8OeBdX1TwtobWM10NR1G3s5Zba2MMDLLMJJURPLjYO27CkEg13VZ3i3RL/xL4Y1Dw/pfivUdCub20kht9a0hYGurF2UgTRC4iliLqeQJI3TI%2BZWGQQDy79in4tT/ABR%2BGd9Zat8QtA1nU/DuqLp15pmifDDVPBz6GgtoJIrO40rVLme5hcI4kV28tHili2Jgb39irzz4D/s7aT8DrzxL4jufiJ4k8Y%2BJPF%2Bow3niLxT4rezF3dGG3S3giEdjbW1tFFHGgCrHCmSzsxZmZj6HQAUUUUAFFFFAHxzpv7VX7U%2Bo6jdfBfxQPhlc/EcftHn4f%2BEvE8Pg%2B%2BGkadCPBy%2BI5r2WzfUDPNMtp9uth5dzAJGaMny1Z1Pvn7JHxn8SfHn4H2vjjxtpdjZ69Y%2BINd8O%2BIYtLDi1fUdH1e80m6lgEjM6wyT2UkkaszMqOoLMQSfNNM/4Jr6ZZan4k8R6h%2B178WdQ1nXvHlv40sNbuY/DcdxoOuxWEem/bLMQaNHGd9hGLR4rhJ4mid/k3uzn2n4HfBvwp8Afhfpvwq8GXN9c2mnvcTTX%2BqTrLd393c3ElzdXc7qqq009xNNM5VVUvK2FUYAAOsooooAKKKKAPF/2yfi78cPgla%2BAfGPwsvfCn9jah8TPDnh7xfY%2BINFubm6ubXVdZsdNBs5YbqFLaSNbmWTfIk6koi7OSa4v9nn9pX4ma3%2B1X4t%2BCPxQ1fw94T06HxTrdv4J8JSfCLWdMudetoXSU39vrdxd/YNQdjJLLLFbQFxkuxXDE%2Bj/ALV37Lb/ALVXhvQvC8/x98b%2BBrfQvElhrqN4Lh0dnu72xvILyzaU6lp94NsVxbxuFjCBuVk3qdoi0n9lEP8AGTRfjL8R/wBoDx341m8L3d5d%2BE9C8QjSYbDR7q5t5LWS4iWw0%2B2llf7PNPCvnySqizvtAJBAB61RRRQAUUUUAFfG37Tf7Xf7S37P/wAWP%2BFReIE%2BGfjiXxLBZzeGrGw8LXtqfCN5e%2BKNI0bQ5tVeS%2BnW8ikuNRMgaNLOQtpk5iB2u0P2TXzbbf8ABNXwk118Q38Q/tL/ABO1m3%2BJOvHXNYt9SOheZZ6lFcQz6fc211FpaXSmwe3txaRvNJFEsKBkfnIB3X7Kvxf%2BJHxGHj/4ffGI6JP4q%2BGnjxvDWs6r4a06azsNT8zS9O1a3uIbeaeeS3za6pbo8bTS4kjkwxBGPWK4X4B/AXQ/gH4e1bTbLxfrniTVvEWvTa14n8UeJXtjf6vfSRxQ%2BdMLWCCBdkEFvAiRRRoscEaheCT3VABRRRQAVz3xQtfije%2BDbi1%2BDniXw9o%2BvNJH9n1PxRos%2Bo2cEe8GRnt4Lm2eU7NwUCaMbiCTgYPQ15/%2B1F%2Bz7p/7U3wO1v4D618SvFHhTT/EEcUOp6p4PuLWK9ktllV5LbddW88ZimVTFKpjO%2BKR1yNxoA%2BTPAn/AAUF%2BPuo%2BJ/Dmu%2BKdT8D%2BD/AmsNqEmtfFGH4M69qmi%2BJZbbXZNKtrxL23v0g0eC6s7eCWKa9knTa8ZSWWIIz/edeDeLv2Fp/iF8Obb4NfED9rP4m6r4ObTBpmveFxZeGrK11yxEhP2Wc2ejwyQxGMiAravb5iUKSTlj7zQAUUUUAFFFFABRRRQAUUUUAFFFFAFHxR4hsPCXhrUfFeqhza6ZYzXdyIly3lxoXbA7nCmvnP9ib9pP41%2BP/ABTo/gz42eHvBlmPHXwtsviN4Zh8GaVcWg0yO8uCbvT7szXEou5o3ubZ/tiCATtLMTBHtBf6Wu7S1v7WWxvbdJoZo2jmilUMrqRgqQeCCOMV5D%2BzN%2BxX4C/Zg1V9X0D4g%2BLfEstt4YsfDPh0eLL21mGgaFZvI9vptqbe3hLRqZPmlnM1xII4vMmfy1wAexUUUUAFFFFABXzP%2B3r%2B0X8Vvgl498D6Fod9oWgeBtR0PW9X8Y%2BOfEvwf1rxdY6Lc6dcaU1iJhpl1brp8ZFxdzm6uX8tPsQOU2k19MV5v%2B0T%2BzzqP7Q%2BgN4Pm%2BP3jjwhol7pt1p/iDSfCH9loms2s6hJI5pbuxuJ4fk3qHtpIJAJGIbcEZQD0S0u7W/tYr6xuY5oJo1khmicMkiEZDKRwQQcgipKp%2BHtA0fwpoFj4X8PWCWun6bZxWtjaxk7YYY0CIgzzgKAOfSrlABRRRQAV4v/AMFBfi78cP2fv2R/Gnx6%2BAV74Uj1jwToV3rl1B4w0W5vra7tLW2lme3RLa6tmSV2RFEhcqgLEo/Ar2ivOP2sf2cbL9rT4Ea9%2Bz7rXxV8U%2BEdJ8T2Utjrl/4QXTvtdzZSxPFNbbr%2B0uo0R1flkRZAVG115yAePePP2tPi54L%2BPHi3U/Cnh3whF8PPCHxj8I/D7xlZzaRcHW9V1XXYNFSPUIbtLhYY44P7c0mMxSW8ryJDPiWPagr6orwSD9gHwdP8RbP4i%2BKvjj4%2B11jrOk654m0bUJdKisfE%2BuaYkaWOrXsdtYRMtxEILTC2zQQMbG2LxMY8n3ugAooooAKKKKAPkT43ftL/ALW3g/U/2ivhvF4V8GeLp/B/hLw3rHgLS9K%2BH%2Bp6hJLZ6xqGq2kttf2cV48mqOkNgJNtuLfeXddhABPuX7Knxbm%2BMvwpHibUfido3inUbXVbmx1a60fwRf8Ahs2dxE3zWs%2BmajcT3VpOildyTMGIZW2qrCuUl/Yo8QxfHTxt8f8AQv20PitpWreN9IsdMubGys/DDWmm21lcXM9mlsJdFeT90by6UGZ5S6zkSeYVQr3PwD%2BAegfAHQtZsdP8W654j1XxN4gl1zxP4m8SS27Xuq38kMMHmyC2hhgjCwW9vCqRRRoqQoAuckgHd0UUUAFFFFAGb4yi8YT%2BFNRh%2BH19ptrrj2ci6Tc6zaST2kVwVOx5oo5I3kQHBKK6FgMBlzkfHHhT9rj9r34gfHXV/wBmX4Zz/Ce%2B8b2V54gX/haD%2BDNQTRda0/QrfRvPso7NdSMyTxal4hFm8n2yaKJre6OwyB4U%2Bu/il4HuviZ8Nte%2BHdn4817wvLrmkXFgniPwvcRQ6lpvmxlPtFrJLHIkcybtyOyMFYA4OK8H0P8A4Jn%2BGPDPw68MeAfDn7UfxQ0248F2F5pfhbxHpUXh2zv9O0m7hiju9NXyNISB4ZmggmaSSJrgTQpIsysM0Aew/s2fGbT/ANo79nTwD%2B0NpWkSafa%2BPPBWleIrawmk3PbR3tnFcrEzYGSolCk4GcV2tZHw%2B8B%2BE/hZ4C0T4Y%2BA9Hj07Q/DmkW2l6Lp8RJS2tLeJYoYlzk4VEVRn0rXoAKKKKACvB/2tfjN%2B0F8BvEnhfxd4M8QeCL3w9rXi7QvDtt4FvvDl5JrmuXN7fLDctaXsd6sUJgtWkutjWkw8u0mZ3jQF4/eK8Z%2BJP7HK/ET9p3RP2prf9o74gaFqvh/QxpWmaBpkOiXGlwQPN5ty0aX2mXE0MtyBHHNLFKjtHDGisgHIBxP/BPn9pX4mfF/7d4I%2BNer%2BHtB1/TtOM1j8NLT4Raz4Xu9KsI7qW3jmjl1K7kj1O22JEomtYkiVmAz8yrX05Xlfwu/Zag8BfFiT43eNfjf418f%2BJI9Am0TSL3xedMjXSdPmniuJ4II9OsrRD5slvbF5JRJIfs8Y3gAg%2BqUAFFFFABRRRQAUUUUAFFFFABRRRQAUUUUAFFFFABRRRQAUUUUAFFFFABRRRQAUUUUAFFFFABRRRQAUUUUAFFFFABRRRQAUUUUAFFFFABRRRQAUUUUAFFFFABRRRQAUUUUAFFFFABRRRQAUUUUAFFFFABRRRQAUUUUAFFFFABRRRQAUUUUAFFFFABRRRQAUUUUAFFFFABRRRQAUUUUAFFFFABRRRQAUUUUAFFFFABRRRQAUUUUAFFFFABRRRQAUUUUAFFFFABRRRQAUUUUAFFFFABRRRQAUUUUAFFFFABRRRQAUUUUAFFFFABRRRQAUUUUAFFFFAH/2Q%3D%3D\">"
      ]
     },
     "metadata": {},
     "output_type": "display_data"
    }
   ],
   "source": [
    "s.run(tf.global_variables_initializer())\n",
    "\n",
    "BATCH_SIZE = 512\n",
    "EPOCHS = 40\n",
    "\n",
    "# for logging the progress right here in Jupyter (for those who don't have TensorBoard)\n",
    "simpleTrainingCurves = matplotlib_utils.SimpleTrainingCurves(\"cross-entropy\", \"accuracy\")\n",
    "\n",
    "for epoch in range(EPOCHS):  # we finish an epoch when we've looked at all training samples\n",
    "    \n",
    "    batch_losses = []\n",
    "    for batch_start in range(0, X_train_flat.shape[0], BATCH_SIZE):  # data is already shuffled\n",
    "        _, batch_loss = s.run([step, loss], {input_X: X_train_flat[batch_start:batch_start+BATCH_SIZE], \n",
    "                                             input_y: y_train_oh[batch_start:batch_start+BATCH_SIZE]})\n",
    "        # collect batch losses, this is almost free as we need a forward pass for backprop anyway\n",
    "        batch_losses.append(batch_loss)\n",
    "\n",
    "    train_loss = np.mean(batch_losses)\n",
    "    val_loss = s.run(loss, {input_X: X_val_flat, input_y: y_val_oh}) # this part is usually small\n",
    "    train_accuracy = accuracy_score(y_train, s.run(classes, {input_X: X_train_flat})) # this is slow and usually skipped\n",
    "    valid_accuracy = accuracy_score(y_val, s.run(classes, {input_X: X_val_flat}))  \n",
    "    simpleTrainingCurves.add(train_loss, val_loss, train_accuracy, valid_accuracy)"
   ]
  },
  {
   "cell_type": "markdown",
   "metadata": {},
   "source": [
    "# Submit a linear model"
   ]
  },
  {
   "cell_type": "code",
   "execution_count": 48,
   "metadata": {
    "collapsed": true
   },
   "outputs": [],
   "source": [
    "## GRADED PART, DO NOT CHANGE!\n",
    "# Testing shapes \n",
    "grader.set_answer(\"9XaAS\", grading_utils.get_tensors_shapes_string([W, b, input_X, input_y, logits, probas, classes]))\n",
    "# Validation loss\n",
    "grader.set_answer(\"vmogZ\", s.run(loss, {input_X: X_val_flat, input_y: y_val_oh}))\n",
    "# Validation accuracy\n",
    "grader.set_answer(\"RMv95\", accuracy_score(y_val, s.run(classes, {input_X: X_val_flat})))"
   ]
  },
  {
   "cell_type": "code",
   "execution_count": 49,
   "metadata": {},
   "outputs": [
    {
     "name": "stdout",
     "output_type": "stream",
     "text": [
      "Submitted to Coursera platform. See results on assignment page!\n"
     ]
    }
   ],
   "source": [
    "# you can make submission with answers so far to check yourself at this stage\n",
    "grader.submit(COURSERA_EMAIL, COURSERA_TOKEN)"
   ]
  },
  {
   "cell_type": "markdown",
   "metadata": {},
   "source": [
    "# MLP with hidden layers"
   ]
  },
  {
   "cell_type": "markdown",
   "metadata": {},
   "source": [
    "Previously we've coded a dense layer with matrix multiplication by hand. \n",
    "But this is not convenient, you have to create a lot of variables and your code becomes a mess. \n",
    "In TensorFlow there's an easier way to make a dense layer:\n",
    "```python\n",
    "hidden1 = tf.layers.dense(inputs, 256, activation=tf.nn.sigmoid)\n",
    "```\n",
    "\n",
    "That will create all the necessary variables automatically.\n",
    "Here you can also choose an activation function (remember that we need it for a hidden layer!).\n",
    "\n",
    "Now define the MLP with 2 hidden layers and restart training with the cell above.\n",
    "\n",
    "You're aiming for ~0.97 validation accuracy here."
   ]
  },
  {
   "cell_type": "code",
   "execution_count": 58,
   "metadata": {
    "collapsed": true
   },
   "outputs": [],
   "source": [
    "# write the code here to get a new `step` operation and then run the cell with training loop above.\n",
    "# name your variables in the same way (e.g. logits, probas, classes, etc) for safety.\n",
    "### YOUR CODE HERE ###\n",
    "hidden1 = tf.layers.dense(input_X, 256, activation=tf.nn.sigmoid)\n",
    "hidden2 = tf.layers.dense(hidden1, 256, activation=tf.nn.sigmoid)\n",
    "logits = tf.layers.dense(hidden2, 10)\n",
    "probas = tf.nn.softmax(logits)\n",
    "classes = tf.argmax(probas,1)\n",
    "loss = tf.reduce_mean(tf.nn.softmax_cross_entropy_with_logits(labels=input_y,logits=logits))\n",
    "step = tf.train.AdamOptimizer().minimize(loss)"
   ]
  },
  {
   "cell_type": "markdown",
   "metadata": {},
   "source": [
    "# Submit the MLP with 2 hidden layers\n",
    "Run these cells after training the MLP with 2 hidden layers"
   ]
  },
  {
   "cell_type": "code",
   "execution_count": 56,
   "metadata": {
    "collapsed": true
   },
   "outputs": [],
   "source": [
    "## GRADED PART, DO NOT CHANGE!\n",
    "# Validation loss for MLP\n",
    "grader.set_answer(\"i8bgs\", s.run(loss, {input_X: X_val_flat, input_y: y_val_oh}))\n",
    "# Validation accuracy for MLP\n",
    "grader.set_answer(\"rE763\", accuracy_score(y_val, s.run(classes, {input_X: X_val_flat})))"
   ]
  },
  {
   "cell_type": "code",
   "execution_count": 57,
   "metadata": {},
   "outputs": [
    {
     "name": "stdout",
     "output_type": "stream",
     "text": [
      "Submitted to Coursera platform. See results on assignment page!\n"
     ]
    }
   ],
   "source": [
    "# you can make submission with answers so far to check yourself at this stage\n",
    "grader.submit(COURSERA_EMAIL, COURSERA_TOKEN)"
   ]
  },
  {
   "cell_type": "code",
   "execution_count": null,
   "metadata": {
    "collapsed": true
   },
   "outputs": [],
   "source": []
  }
 ],
 "metadata": {
  "kernelspec": {
   "display_name": "Python 3",
   "language": "python",
   "name": "python3"
  },
  "language_info": {
   "codemirror_mode": {
    "name": "ipython",
    "version": 3
   },
   "file_extension": ".py",
   "mimetype": "text/x-python",
   "name": "python",
   "nbconvert_exporter": "python",
   "pygments_lexer": "ipython3",
   "version": "3.6.0"
  }
 },
 "nbformat": 4,
 "nbformat_minor": 1
}
